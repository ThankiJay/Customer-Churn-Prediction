{
 "cells": [
  {
   "cell_type": "markdown",
   "id": "9848aa77",
   "metadata": {},
   "source": [
    "# Importing the data"
   ]
  },
  {
   "cell_type": "code",
   "execution_count": 1,
   "id": "9730a5b7",
   "metadata": {},
   "outputs": [],
   "source": [
    "import numpy as np\n",
    "import pandas as pd"
   ]
  },
  {
   "cell_type": "code",
   "execution_count": 2,
   "id": "da4b42bf",
   "metadata": {},
   "outputs": [],
   "source": [
    "data = pd.read_csv('data.csv')\n",
    "# data.head()"
   ]
  },
  {
   "cell_type": "code",
   "execution_count": 3,
   "id": "91cbc90c",
   "metadata": {},
   "outputs": [
    {
     "data": {
      "text/html": [
       "<div>\n",
       "<style scoped>\n",
       "    .dataframe tbody tr th:only-of-type {\n",
       "        vertical-align: middle;\n",
       "    }\n",
       "\n",
       "    .dataframe tbody tr th {\n",
       "        vertical-align: top;\n",
       "    }\n",
       "\n",
       "    .dataframe thead th {\n",
       "        text-align: right;\n",
       "    }\n",
       "</style>\n",
       "<table border=\"1\" class=\"dataframe\">\n",
       "  <thead>\n",
       "    <tr style=\"text-align: right;\">\n",
       "      <th></th>\n",
       "      <th>customerID</th>\n",
       "      <th>gender</th>\n",
       "      <th>SeniorCitizen</th>\n",
       "      <th>Partner</th>\n",
       "      <th>Dependents</th>\n",
       "      <th>tenure</th>\n",
       "      <th>PhoneService</th>\n",
       "      <th>MultipleLines</th>\n",
       "      <th>InternetService</th>\n",
       "      <th>OnlineSecurity</th>\n",
       "      <th>...</th>\n",
       "      <th>DeviceProtection</th>\n",
       "      <th>TechSupport</th>\n",
       "      <th>StreamingTV</th>\n",
       "      <th>StreamingMovies</th>\n",
       "      <th>Contract</th>\n",
       "      <th>PaperlessBilling</th>\n",
       "      <th>PaymentMethod</th>\n",
       "      <th>MonthlyCharges</th>\n",
       "      <th>TotalCharges</th>\n",
       "      <th>Churn</th>\n",
       "    </tr>\n",
       "  </thead>\n",
       "  <tbody>\n",
       "    <tr>\n",
       "      <th>7138</th>\n",
       "      <td>7048-GXDAY</td>\n",
       "      <td>Male</td>\n",
       "      <td>0</td>\n",
       "      <td>No</td>\n",
       "      <td>No</td>\n",
       "      <td>39</td>\n",
       "      <td>Yes</td>\n",
       "      <td>Yes</td>\n",
       "      <td>Fiber optic</td>\n",
       "      <td>Yes</td>\n",
       "      <td>...</td>\n",
       "      <td>No</td>\n",
       "      <td>No</td>\n",
       "      <td>Yes</td>\n",
       "      <td>Yes</td>\n",
       "      <td>Month-to-month</td>\n",
       "      <td>Yes</td>\n",
       "      <td>Electronic check</td>\n",
       "      <td>106.4</td>\n",
       "      <td>4040.65</td>\n",
       "      <td>No</td>\n",
       "    </tr>\n",
       "    <tr>\n",
       "      <th>7139</th>\n",
       "      <td>9283-LZQOH</td>\n",
       "      <td>Male</td>\n",
       "      <td>0</td>\n",
       "      <td>Yes</td>\n",
       "      <td>Yes</td>\n",
       "      <td>13</td>\n",
       "      <td>Yes</td>\n",
       "      <td>Yes</td>\n",
       "      <td>Fiber optic</td>\n",
       "      <td>No</td>\n",
       "      <td>...</td>\n",
       "      <td>No</td>\n",
       "      <td>No</td>\n",
       "      <td>No</td>\n",
       "      <td>No</td>\n",
       "      <td>Month-to-month</td>\n",
       "      <td>Yes</td>\n",
       "      <td>Credit card (automatic)</td>\n",
       "      <td>74.4</td>\n",
       "      <td>896.75</td>\n",
       "      <td>Yes</td>\n",
       "    </tr>\n",
       "    <tr>\n",
       "      <th>7140</th>\n",
       "      <td>6473-ULUHT</td>\n",
       "      <td>Male</td>\n",
       "      <td>0</td>\n",
       "      <td>Yes</td>\n",
       "      <td>Yes</td>\n",
       "      <td>16</td>\n",
       "      <td>Yes</td>\n",
       "      <td>Yes</td>\n",
       "      <td>DSL</td>\n",
       "      <td>Yes</td>\n",
       "      <td>...</td>\n",
       "      <td>No</td>\n",
       "      <td>Yes</td>\n",
       "      <td>Yes</td>\n",
       "      <td>Yes</td>\n",
       "      <td>Month-to-month</td>\n",
       "      <td>No</td>\n",
       "      <td>Electronic check</td>\n",
       "      <td>84.9</td>\n",
       "      <td>1398.25</td>\n",
       "      <td>No</td>\n",
       "    </tr>\n",
       "    <tr>\n",
       "      <th>7141</th>\n",
       "      <td>7017-VFHAY</td>\n",
       "      <td>Female</td>\n",
       "      <td>0</td>\n",
       "      <td>Yes</td>\n",
       "      <td>Yes</td>\n",
       "      <td>61</td>\n",
       "      <td>Yes</td>\n",
       "      <td>Yes</td>\n",
       "      <td>Fiber optic</td>\n",
       "      <td>Yes</td>\n",
       "      <td>...</td>\n",
       "      <td>Yes</td>\n",
       "      <td>Yes</td>\n",
       "      <td>Yes</td>\n",
       "      <td>Yes</td>\n",
       "      <td>Two year</td>\n",
       "      <td>No</td>\n",
       "      <td>Credit card (automatic)</td>\n",
       "      <td>115.1</td>\n",
       "      <td>7008.15</td>\n",
       "      <td>No</td>\n",
       "    </tr>\n",
       "    <tr>\n",
       "      <th>7142</th>\n",
       "      <td>4367-NHWMM</td>\n",
       "      <td>Female</td>\n",
       "      <td>0</td>\n",
       "      <td>No</td>\n",
       "      <td>No</td>\n",
       "      <td>1</td>\n",
       "      <td>No</td>\n",
       "      <td>No phone service</td>\n",
       "      <td>DSL</td>\n",
       "      <td>No</td>\n",
       "      <td>...</td>\n",
       "      <td>No</td>\n",
       "      <td>No</td>\n",
       "      <td>No</td>\n",
       "      <td>No</td>\n",
       "      <td>Month-to-month</td>\n",
       "      <td>Yes</td>\n",
       "      <td>Mailed check</td>\n",
       "      <td>24.9</td>\n",
       "      <td>24.9</td>\n",
       "      <td>No</td>\n",
       "    </tr>\n",
       "  </tbody>\n",
       "</table>\n",
       "<p>5 rows × 21 columns</p>\n",
       "</div>"
      ],
      "text/plain": [
       "      customerID  gender  SeniorCitizen Partner Dependents  tenure  \\\n",
       "7138  7048-GXDAY    Male              0      No         No      39   \n",
       "7139  9283-LZQOH    Male              0     Yes        Yes      13   \n",
       "7140  6473-ULUHT    Male              0     Yes        Yes      16   \n",
       "7141  7017-VFHAY  Female              0     Yes        Yes      61   \n",
       "7142  4367-NHWMM  Female              0      No         No       1   \n",
       "\n",
       "     PhoneService     MultipleLines InternetService OnlineSecurity  ...  \\\n",
       "7138          Yes               Yes     Fiber optic            Yes  ...   \n",
       "7139          Yes               Yes     Fiber optic             No  ...   \n",
       "7140          Yes               Yes             DSL            Yes  ...   \n",
       "7141          Yes               Yes     Fiber optic            Yes  ...   \n",
       "7142           No  No phone service             DSL             No  ...   \n",
       "\n",
       "     DeviceProtection TechSupport StreamingTV StreamingMovies        Contract  \\\n",
       "7138               No          No         Yes             Yes  Month-to-month   \n",
       "7139               No          No          No              No  Month-to-month   \n",
       "7140               No         Yes         Yes             Yes  Month-to-month   \n",
       "7141              Yes         Yes         Yes             Yes        Two year   \n",
       "7142               No          No          No              No  Month-to-month   \n",
       "\n",
       "     PaperlessBilling            PaymentMethod MonthlyCharges  TotalCharges  \\\n",
       "7138              Yes         Electronic check          106.4       4040.65   \n",
       "7139              Yes  Credit card (automatic)           74.4        896.75   \n",
       "7140               No         Electronic check           84.9       1398.25   \n",
       "7141               No  Credit card (automatic)          115.1       7008.15   \n",
       "7142              Yes             Mailed check           24.9          24.9   \n",
       "\n",
       "     Churn  \n",
       "7138    No  \n",
       "7139   Yes  \n",
       "7140    No  \n",
       "7141    No  \n",
       "7142    No  \n",
       "\n",
       "[5 rows x 21 columns]"
      ]
     },
     "execution_count": 3,
     "metadata": {},
     "output_type": "execute_result"
    }
   ],
   "source": [
    "data.tail()"
   ]
  },
  {
   "cell_type": "code",
   "execution_count": 4,
   "id": "04dd03e0",
   "metadata": {},
   "outputs": [
    {
     "name": "stdout",
     "output_type": "stream",
     "text": [
      "<class 'pandas.core.frame.DataFrame'>\n",
      "RangeIndex: 7143 entries, 0 to 7142\n",
      "Data columns (total 21 columns):\n",
      " #   Column            Non-Null Count  Dtype  \n",
      "---  ------            --------------  -----  \n",
      " 0   customerID        7143 non-null   object \n",
      " 1   gender            7143 non-null   object \n",
      " 2   SeniorCitizen     7143 non-null   int64  \n",
      " 3   Partner           7143 non-null   object \n",
      " 4   Dependents        7143 non-null   object \n",
      " 5   tenure            7143 non-null   int64  \n",
      " 6   PhoneService      7143 non-null   object \n",
      " 7   MultipleLines     7143 non-null   object \n",
      " 8   InternetService   7143 non-null   object \n",
      " 9   OnlineSecurity    7126 non-null   object \n",
      " 10  OnlineBackup      7143 non-null   object \n",
      " 11  DeviceProtection  7143 non-null   object \n",
      " 12  TechSupport       7143 non-null   object \n",
      " 13  StreamingTV       7143 non-null   object \n",
      " 14  StreamingMovies   7143 non-null   object \n",
      " 15  Contract          7143 non-null   object \n",
      " 16  PaperlessBilling  7143 non-null   object \n",
      " 17  PaymentMethod     7143 non-null   object \n",
      " 18  MonthlyCharges    7143 non-null   float64\n",
      " 19  TotalCharges      7143 non-null   object \n",
      " 20  Churn             7143 non-null   object \n",
      "dtypes: float64(1), int64(2), object(18)\n",
      "memory usage: 1.1+ MB\n"
     ]
    }
   ],
   "source": [
    "data.info()"
   ]
  },
  {
   "cell_type": "code",
   "execution_count": 5,
   "id": "2be3393f",
   "metadata": {},
   "outputs": [
    {
     "data": {
      "text/html": [
       "<div>\n",
       "<style scoped>\n",
       "    .dataframe tbody tr th:only-of-type {\n",
       "        vertical-align: middle;\n",
       "    }\n",
       "\n",
       "    .dataframe tbody tr th {\n",
       "        vertical-align: top;\n",
       "    }\n",
       "\n",
       "    .dataframe thead th {\n",
       "        text-align: right;\n",
       "    }\n",
       "</style>\n",
       "<table border=\"1\" class=\"dataframe\">\n",
       "  <thead>\n",
       "    <tr style=\"text-align: right;\">\n",
       "      <th></th>\n",
       "      <th>SeniorCitizen</th>\n",
       "      <th>tenure</th>\n",
       "      <th>MonthlyCharges</th>\n",
       "    </tr>\n",
       "  </thead>\n",
       "  <tbody>\n",
       "    <tr>\n",
       "      <th>count</th>\n",
       "      <td>7143.000000</td>\n",
       "      <td>7143.000000</td>\n",
       "      <td>7143.000000</td>\n",
       "    </tr>\n",
       "    <tr>\n",
       "      <th>mean</th>\n",
       "      <td>0.161697</td>\n",
       "      <td>32.378132</td>\n",
       "      <td>65.932548</td>\n",
       "    </tr>\n",
       "    <tr>\n",
       "      <th>std</th>\n",
       "      <td>0.368198</td>\n",
       "      <td>24.554523</td>\n",
       "      <td>35.628908</td>\n",
       "    </tr>\n",
       "    <tr>\n",
       "      <th>min</th>\n",
       "      <td>0.000000</td>\n",
       "      <td>0.000000</td>\n",
       "      <td>18.250000</td>\n",
       "    </tr>\n",
       "    <tr>\n",
       "      <th>25%</th>\n",
       "      <td>0.000000</td>\n",
       "      <td>9.000000</td>\n",
       "      <td>35.725000</td>\n",
       "    </tr>\n",
       "    <tr>\n",
       "      <th>50%</th>\n",
       "      <td>0.000000</td>\n",
       "      <td>29.000000</td>\n",
       "      <td>70.400000</td>\n",
       "    </tr>\n",
       "    <tr>\n",
       "      <th>75%</th>\n",
       "      <td>0.000000</td>\n",
       "      <td>55.000000</td>\n",
       "      <td>89.975000</td>\n",
       "    </tr>\n",
       "    <tr>\n",
       "      <th>max</th>\n",
       "      <td>1.000000</td>\n",
       "      <td>72.000000</td>\n",
       "      <td>430.038097</td>\n",
       "    </tr>\n",
       "  </tbody>\n",
       "</table>\n",
       "</div>"
      ],
      "text/plain": [
       "       SeniorCitizen       tenure  MonthlyCharges\n",
       "count    7143.000000  7143.000000     7143.000000\n",
       "mean        0.161697    32.378132       65.932548\n",
       "std         0.368198    24.554523       35.628908\n",
       "min         0.000000     0.000000       18.250000\n",
       "25%         0.000000     9.000000       35.725000\n",
       "50%         0.000000    29.000000       70.400000\n",
       "75%         0.000000    55.000000       89.975000\n",
       "max         1.000000    72.000000      430.038097"
      ]
     },
     "execution_count": 5,
     "metadata": {},
     "output_type": "execute_result"
    }
   ],
   "source": [
    "data.describe()"
   ]
  },
  {
   "cell_type": "markdown",
   "id": "f0db0b01",
   "metadata": {},
   "source": [
    "# 1. Missing data"
   ]
  },
  {
   "cell_type": "code",
   "execution_count": 6,
   "id": "47866d85",
   "metadata": {},
   "outputs": [
    {
     "data": {
      "text/plain": [
       "customerID           0\n",
       "gender               0\n",
       "SeniorCitizen        0\n",
       "Partner              0\n",
       "Dependents           0\n",
       "tenure               0\n",
       "PhoneService         0\n",
       "MultipleLines        0\n",
       "InternetService      0\n",
       "OnlineSecurity      17\n",
       "OnlineBackup         0\n",
       "DeviceProtection     0\n",
       "TechSupport          0\n",
       "StreamingTV          0\n",
       "StreamingMovies      0\n",
       "Contract             0\n",
       "PaperlessBilling     0\n",
       "PaymentMethod        0\n",
       "MonthlyCharges       0\n",
       "TotalCharges         0\n",
       "Churn                0\n",
       "dtype: int64"
      ]
     },
     "execution_count": 6,
     "metadata": {},
     "output_type": "execute_result"
    }
   ],
   "source": [
    "# Checking for missing data\n",
    "data.isnull().sum()"
   ]
  },
  {
   "cell_type": "code",
   "execution_count": 7,
   "id": "3426b1ae",
   "metadata": {},
   "outputs": [],
   "source": [
    "# We have missing data in the Column 'OnlineSecurity'"
   ]
  },
  {
   "cell_type": "code",
   "execution_count": 8,
   "id": "faf7dad8",
   "metadata": {},
   "outputs": [
    {
     "data": {
      "text/plain": [
       "0        No\n",
       "1       Yes\n",
       "2       Yes\n",
       "3       Yes\n",
       "4        No\n",
       "       ... \n",
       "7138    Yes\n",
       "7139     No\n",
       "7140    Yes\n",
       "7141    Yes\n",
       "7142     No\n",
       "Name: OnlineSecurity, Length: 7143, dtype: object"
      ]
     },
     "execution_count": 8,
     "metadata": {},
     "output_type": "execute_result"
    }
   ],
   "source": [
    "# Taking a look at the columns 'OnlineSecurity'\n",
    "data['OnlineSecurity']"
   ]
  },
  {
   "cell_type": "code",
   "execution_count": 9,
   "id": "7e4a8fa6",
   "metadata": {},
   "outputs": [
    {
     "data": {
      "text/plain": [
       "OnlineSecurity\n",
       "No                     3547\n",
       "Yes                    2040\n",
       "No internet service    1539\n",
       "Name: count, dtype: int64"
      ]
     },
     "execution_count": 9,
     "metadata": {},
     "output_type": "execute_result"
    }
   ],
   "source": [
    "data['OnlineSecurity'].value_counts()"
   ]
  },
  {
   "cell_type": "code",
   "execution_count": 10,
   "id": "4c870b7e",
   "metadata": {},
   "outputs": [],
   "source": [
    "# Most people don't have OnlineSecurity\n",
    "# Since its not a lot of missing values, we assume and replace the missing values with\n",
    "# the mode of the column\n",
    "# data['OnlineSecurity'].mode()[0]\n",
    "data['OnlineSecurity'] = data['OnlineSecurity'].fillna(data['OnlineSecurity'].mode()[0])"
   ]
  },
  {
   "cell_type": "code",
   "execution_count": 11,
   "id": "58bb97b7",
   "metadata": {},
   "outputs": [
    {
     "data": {
      "text/plain": [
       "customerID          0\n",
       "gender              0\n",
       "SeniorCitizen       0\n",
       "Partner             0\n",
       "Dependents          0\n",
       "tenure              0\n",
       "PhoneService        0\n",
       "MultipleLines       0\n",
       "InternetService     0\n",
       "OnlineSecurity      0\n",
       "OnlineBackup        0\n",
       "DeviceProtection    0\n",
       "TechSupport         0\n",
       "StreamingTV         0\n",
       "StreamingMovies     0\n",
       "Contract            0\n",
       "PaperlessBilling    0\n",
       "PaymentMethod       0\n",
       "MonthlyCharges      0\n",
       "TotalCharges        0\n",
       "Churn               0\n",
       "dtype: int64"
      ]
     },
     "execution_count": 11,
     "metadata": {},
     "output_type": "execute_result"
    }
   ],
   "source": [
    "data.isnull().sum()"
   ]
  },
  {
   "cell_type": "code",
   "execution_count": 12,
   "id": "f514d951",
   "metadata": {},
   "outputs": [],
   "source": [
    "# We have no missing values!"
   ]
  },
  {
   "cell_type": "markdown",
   "id": "dfb9c17e",
   "metadata": {},
   "source": [
    "# 2. Checking for duplicate entries in data"
   ]
  },
  {
   "cell_type": "code",
   "execution_count": 17,
   "id": "a19db625",
   "metadata": {},
   "outputs": [
    {
     "data": {
      "text/plain": [
       "False    7043\n",
       "True      100\n",
       "Name: count, dtype: int64"
      ]
     },
     "execution_count": 17,
     "metadata": {},
     "output_type": "execute_result"
    }
   ],
   "source": [
    "data.duplicated().value_counts()"
   ]
  },
  {
   "cell_type": "code",
   "execution_count": 18,
   "id": "4941f5fe",
   "metadata": {},
   "outputs": [],
   "source": [
    "# We have 100 duplicated rows"
   ]
  },
  {
   "cell_type": "code",
   "execution_count": null,
   "id": "0b1f68b4",
   "metadata": {},
   "outputs": [],
   "source": [
    "# Removing the duplicate rows\n"
   ]
  },
  {
   "cell_type": "markdown",
   "id": "8ba905ec",
   "metadata": {},
   "source": [
    "# 3. Outlier removal"
   ]
  },
  {
   "cell_type": "code",
   "execution_count": null,
   "id": "c4917d46",
   "metadata": {},
   "outputs": [],
   "source": []
  },
  {
   "cell_type": "markdown",
   "id": "6d247c56",
   "metadata": {},
   "source": [
    "# 4. Addressing Inconsistencies in datatypes within the columns"
   ]
  },
  {
   "cell_type": "code",
   "execution_count": null,
   "id": "3dd43c32",
   "metadata": {},
   "outputs": [],
   "source": []
  },
  {
   "cell_type": "markdown",
   "id": "0fc5ea11",
   "metadata": {},
   "source": [
    "# 5. Addressing Inconsistencies in Categorical Data: Category Merge"
   ]
  },
  {
   "cell_type": "markdown",
   "id": "f54f369f",
   "metadata": {},
   "source": [
    "#### Column \"MultipleLines\" Category Merge"
   ]
  },
  {
   "cell_type": "code",
   "execution_count": 36,
   "id": "36df3cf6",
   "metadata": {},
   "outputs": [
    {
     "data": {
      "text/plain": [
       "No     4119\n",
       "Yes    3022\n",
       "Name: MultipleLines, dtype: int64"
      ]
     },
     "execution_count": 36,
     "metadata": {},
     "output_type": "execute_result"
    }
   ],
   "source": [
    "column = 'MultipleLines'\n",
    "data[column].value_counts()\n",
    "data.loc[data[column] == 'No phone service', column] = 'No'\n",
    "data[column].value_counts()"
   ]
  },
  {
   "cell_type": "markdown",
   "id": "ecb1a17a",
   "metadata": {},
   "source": [
    "#### Column \"OnlineSecurity\" Category Merge"
   ]
  },
  {
   "cell_type": "code",
   "execution_count": 37,
   "id": "f8c7cdf0",
   "metadata": {},
   "outputs": [
    {
     "data": {
      "text/plain": [
       "No     5084\n",
       "Yes    2040\n",
       "Name: OnlineSecurity, dtype: int64"
      ]
     },
     "execution_count": 37,
     "metadata": {},
     "output_type": "execute_result"
    }
   ],
   "source": [
    "column = 'OnlineSecurity'\n",
    "data[column].value_counts()\n",
    "data.loc[data[column] == 'No internet service', column] = 'No'\n",
    "data[column].value_counts()"
   ]
  },
  {
   "cell_type": "markdown",
   "id": "e56d2580",
   "metadata": {},
   "source": [
    "#### Column \"OnlineBackup\"Category Merge"
   ]
  },
  {
   "cell_type": "code",
   "execution_count": 38,
   "id": "cc6b2143",
   "metadata": {},
   "outputs": [
    {
     "data": {
      "text/plain": [
       "No     4675\n",
       "Yes    2466\n",
       "Name: OnlineBackup, dtype: int64"
      ]
     },
     "execution_count": 38,
     "metadata": {},
     "output_type": "execute_result"
    }
   ],
   "source": [
    "column = 'OnlineBackup'\n",
    "data[column].value_counts()\n",
    "data.loc[data[column] == 'No internet service', column] = 'No'\n",
    "data[column].value_counts()"
   ]
  },
  {
   "cell_type": "markdown",
   "id": "8a9c6e8a",
   "metadata": {},
   "source": [
    "#### Column \"DeviceProtection\" Category Merge"
   ]
  },
  {
   "cell_type": "code",
   "execution_count": 39,
   "id": "ce30d980",
   "metadata": {},
   "outputs": [
    {
     "data": {
      "text/plain": [
       "No     4679\n",
       "Yes    2462\n",
       "Name: DeviceProtection, dtype: int64"
      ]
     },
     "execution_count": 39,
     "metadata": {},
     "output_type": "execute_result"
    }
   ],
   "source": [
    "column = 'DeviceProtection'\n",
    "data[column].value_counts()\n",
    "data.loc[data[column] == 'No internet service', column] = 'No'\n",
    "data[column].value_counts()"
   ]
  },
  {
   "cell_type": "markdown",
   "id": "cb7629d0",
   "metadata": {},
   "source": [
    "#### Column \"TechSupport\" Category Merge"
   ]
  },
  {
   "cell_type": "code",
   "execution_count": 40,
   "id": "305b3745",
   "metadata": {},
   "outputs": [
    {
     "data": {
      "text/plain": [
       "No     5069\n",
       "Yes    2072\n",
       "Name: TechSupport, dtype: int64"
      ]
     },
     "execution_count": 40,
     "metadata": {},
     "output_type": "execute_result"
    }
   ],
   "source": [
    "column = 'TechSupport'\n",
    "data[column].value_counts()\n",
    "data.loc[data[column] == 'No internet service', column] = 'No'\n",
    "data[column].value_counts()"
   ]
  },
  {
   "cell_type": "markdown",
   "id": "8b01a1a8",
   "metadata": {},
   "source": [
    "#### Column \"StreamingTV\" Category Merge"
   ]
  },
  {
   "cell_type": "code",
   "execution_count": 41,
   "id": "3329fd80",
   "metadata": {},
   "outputs": [
    {
     "data": {
      "text/plain": [
       "No     4392\n",
       "Yes    2749\n",
       "Name: StreamingTV, dtype: int64"
      ]
     },
     "execution_count": 41,
     "metadata": {},
     "output_type": "execute_result"
    }
   ],
   "source": [
    "column = 'StreamingTV'\n",
    "data[column].value_counts()\n",
    "data.loc[data[column] == 'No internet service', column] = 'No'\n",
    "data[column].value_counts()"
   ]
  },
  {
   "cell_type": "markdown",
   "id": "4a6666f3",
   "metadata": {},
   "source": [
    "#### Column \"StreamingMovies\" Category Merge"
   ]
  },
  {
   "cell_type": "code",
   "execution_count": 42,
   "id": "7e0f48f0",
   "metadata": {},
   "outputs": [
    {
     "data": {
      "text/plain": [
       "No     4376\n",
       "Yes    2765\n",
       "Name: StreamingMovies, dtype: int64"
      ]
     },
     "execution_count": 42,
     "metadata": {},
     "output_type": "execute_result"
    }
   ],
   "source": [
    "column = 'StreamingMovies'\n",
    "data[column].value_counts()\n",
    "data.loc[data[column] == 'No internet service', column] = 'No'\n",
    "data[column].value_counts()"
   ]
  },
  {
   "cell_type": "markdown",
   "id": "5eed0d59",
   "metadata": {},
   "source": [
    "# 6. Label Encoding Categorical Columns Data Formats: Yes/No to 1/0"
   ]
  },
  {
   "cell_type": "code",
   "execution_count": 43,
   "id": "34bda1ae",
   "metadata": {},
   "outputs": [],
   "source": [
    "columns = ['Partner', 'Dependents', 'PhoneService', 'MultipleLines', 'OnlineSecurity', 'OnlineBackup', 'DeviceProtection', 'TechSupport', 'StreamingTV', 'StreamingMovies', 'PaperlessBilling', 'Churn']\n",
    "mapping = {'Yes': 1, 'No': 0}\n",
    "\n",
    "for column in columns:\n",
    "    data[column] = data[column].map(mapping)"
   ]
  },
  {
   "cell_type": "markdown",
   "id": "bbd2a956",
   "metadata": {},
   "source": [
    "## Label Encoding Data Formats: Male/Female to 1/0"
   ]
  },
  {
   "cell_type": "code",
   "execution_count": 44,
   "id": "0fc650ad",
   "metadata": {},
   "outputs": [],
   "source": [
    "mapping = {'Male': 1, 'Female': 0}\n",
    "data['gender'] = data['gender'].map(mapping)"
   ]
  },
  {
   "cell_type": "markdown",
   "id": "c51a5dbb",
   "metadata": {},
   "source": [
    "# 7. One-hot encoding for categorical features"
   ]
  },
  {
   "cell_type": "markdown",
   "id": "e04fd3cd",
   "metadata": {},
   "source": [
    "#### One-hot encoding for column InternetService"
   ]
  },
  {
   "cell_type": "code",
   "execution_count": 68,
   "id": "5b15f1bb",
   "metadata": {},
   "outputs": [
    {
     "data": {
      "text/plain": [
       "Fiber optic    3135\n",
       "DSL            2460\n",
       "No             1546\n",
       "Name: InternetService, dtype: int64"
      ]
     },
     "execution_count": 68,
     "metadata": {},
     "output_type": "execute_result"
    }
   ],
   "source": [
    "# Convert categorical to numerical\n",
    "data['InternetService'].value_counts()"
   ]
  },
  {
   "cell_type": "code",
   "execution_count": 69,
   "id": "82a822a8",
   "metadata": {},
   "outputs": [
    {
     "data": {
      "text/html": [
       "<div>\n",
       "<style scoped>\n",
       "    .dataframe tbody tr th:only-of-type {\n",
       "        vertical-align: middle;\n",
       "    }\n",
       "\n",
       "    .dataframe tbody tr th {\n",
       "        vertical-align: top;\n",
       "    }\n",
       "\n",
       "    .dataframe thead th {\n",
       "        text-align: right;\n",
       "    }\n",
       "</style>\n",
       "<table border=\"1\" class=\"dataframe\">\n",
       "  <thead>\n",
       "    <tr style=\"text-align: right;\">\n",
       "      <th></th>\n",
       "      <th>IntrntSrvc_DSL</th>\n",
       "      <th>IntrntSrvc_FiberOptic</th>\n",
       "      <th>IntrntSrvc_No</th>\n",
       "    </tr>\n",
       "  </thead>\n",
       "  <tbody>\n",
       "    <tr>\n",
       "      <th>0</th>\n",
       "      <td>1</td>\n",
       "      <td>0</td>\n",
       "      <td>0</td>\n",
       "    </tr>\n",
       "    <tr>\n",
       "      <th>1</th>\n",
       "      <td>1</td>\n",
       "      <td>0</td>\n",
       "      <td>0</td>\n",
       "    </tr>\n",
       "    <tr>\n",
       "      <th>2</th>\n",
       "      <td>1</td>\n",
       "      <td>0</td>\n",
       "      <td>0</td>\n",
       "    </tr>\n",
       "    <tr>\n",
       "      <th>3</th>\n",
       "      <td>1</td>\n",
       "      <td>0</td>\n",
       "      <td>0</td>\n",
       "    </tr>\n",
       "    <tr>\n",
       "      <th>4</th>\n",
       "      <td>0</td>\n",
       "      <td>1</td>\n",
       "      <td>0</td>\n",
       "    </tr>\n",
       "    <tr>\n",
       "      <th>...</th>\n",
       "      <td>...</td>\n",
       "      <td>...</td>\n",
       "      <td>...</td>\n",
       "    </tr>\n",
       "    <tr>\n",
       "      <th>7136</th>\n",
       "      <td>0</td>\n",
       "      <td>1</td>\n",
       "      <td>0</td>\n",
       "    </tr>\n",
       "    <tr>\n",
       "      <th>7137</th>\n",
       "      <td>0</td>\n",
       "      <td>1</td>\n",
       "      <td>0</td>\n",
       "    </tr>\n",
       "    <tr>\n",
       "      <th>7138</th>\n",
       "      <td>1</td>\n",
       "      <td>0</td>\n",
       "      <td>0</td>\n",
       "    </tr>\n",
       "    <tr>\n",
       "      <th>7139</th>\n",
       "      <td>0</td>\n",
       "      <td>1</td>\n",
       "      <td>0</td>\n",
       "    </tr>\n",
       "    <tr>\n",
       "      <th>7140</th>\n",
       "      <td>1</td>\n",
       "      <td>0</td>\n",
       "      <td>0</td>\n",
       "    </tr>\n",
       "  </tbody>\n",
       "</table>\n",
       "<p>7141 rows × 3 columns</p>\n",
       "</div>"
      ],
      "text/plain": [
       "      IntrntSrvc_DSL  IntrntSrvc_FiberOptic  IntrntSrvc_No\n",
       "0                  1                      0              0\n",
       "1                  1                      0              0\n",
       "2                  1                      0              0\n",
       "3                  1                      0              0\n",
       "4                  0                      1              0\n",
       "...              ...                    ...            ...\n",
       "7136               0                      1              0\n",
       "7137               0                      1              0\n",
       "7138               1                      0              0\n",
       "7139               0                      1              0\n",
       "7140               1                      0              0\n",
       "\n",
       "[7141 rows x 3 columns]"
      ]
     },
     "execution_count": 69,
     "metadata": {},
     "output_type": "execute_result"
    }
   ],
   "source": [
    "# Perform one-hot encoding\n",
    "data = pd.get_dummies(data, columns=['InternetService'], prefix='InternetService')\n",
    "\n",
    "# Get the column names\n",
    "columns = data.columns.tolist()\n",
    "\n",
    "# Move the new three columns to its position 9\n",
    "columns = columns[:8] + columns[-3:] + columns[8:-3]\n",
    "\n",
    "# Create a new DataFrame with the modified column order\n",
    "data = data[columns]\n",
    "\n",
    "# Renaming Columns\n",
    "mapping = {'InternetService_DSL': 'IntrntSrvc_DSL', 'InternetService_Fiber optic': 'IntrntSrvc_FiberOptic', 'InternetService_No': 'IntrntSrvc_No'}\n",
    "data.rename(columns = mapping, inplace=True)\n",
    "\n",
    "# New columns\n",
    "data.iloc[:,8:11]"
   ]
  },
  {
   "cell_type": "markdown",
   "id": "bff8f9b2",
   "metadata": {},
   "source": [
    "#### One-hot encoding for column Contract"
   ]
  },
  {
   "cell_type": "code",
   "execution_count": 70,
   "id": "80d6711a",
   "metadata": {},
   "outputs": [
    {
     "data": {
      "text/plain": [
       "Month-to-month    3932\n",
       "Two year          1721\n",
       "One year          1488\n",
       "Name: Contract, dtype: int64"
      ]
     },
     "execution_count": 70,
     "metadata": {},
     "output_type": "execute_result"
    }
   ],
   "source": [
    "# Convert categorical to numerical\n",
    "data['Contract'].value_counts()"
   ]
  },
  {
   "cell_type": "code",
   "execution_count": 71,
   "id": "2a3cbecf",
   "metadata": {},
   "outputs": [
    {
     "data": {
      "text/html": [
       "<div>\n",
       "<style scoped>\n",
       "    .dataframe tbody tr th:only-of-type {\n",
       "        vertical-align: middle;\n",
       "    }\n",
       "\n",
       "    .dataframe tbody tr th {\n",
       "        vertical-align: top;\n",
       "    }\n",
       "\n",
       "    .dataframe thead th {\n",
       "        text-align: right;\n",
       "    }\n",
       "</style>\n",
       "<table border=\"1\" class=\"dataframe\">\n",
       "  <thead>\n",
       "    <tr style=\"text-align: right;\">\n",
       "      <th></th>\n",
       "      <th>Contract_Monthly</th>\n",
       "      <th>Contract_OneYear</th>\n",
       "      <th>Contract_TwoYear</th>\n",
       "    </tr>\n",
       "  </thead>\n",
       "  <tbody>\n",
       "    <tr>\n",
       "      <th>0</th>\n",
       "      <td>1</td>\n",
       "      <td>0</td>\n",
       "      <td>0</td>\n",
       "    </tr>\n",
       "    <tr>\n",
       "      <th>1</th>\n",
       "      <td>0</td>\n",
       "      <td>1</td>\n",
       "      <td>0</td>\n",
       "    </tr>\n",
       "    <tr>\n",
       "      <th>2</th>\n",
       "      <td>1</td>\n",
       "      <td>0</td>\n",
       "      <td>0</td>\n",
       "    </tr>\n",
       "    <tr>\n",
       "      <th>3</th>\n",
       "      <td>0</td>\n",
       "      <td>1</td>\n",
       "      <td>0</td>\n",
       "    </tr>\n",
       "    <tr>\n",
       "      <th>4</th>\n",
       "      <td>1</td>\n",
       "      <td>0</td>\n",
       "      <td>0</td>\n",
       "    </tr>\n",
       "    <tr>\n",
       "      <th>...</th>\n",
       "      <td>...</td>\n",
       "      <td>...</td>\n",
       "      <td>...</td>\n",
       "    </tr>\n",
       "    <tr>\n",
       "      <th>7136</th>\n",
       "      <td>1</td>\n",
       "      <td>0</td>\n",
       "      <td>0</td>\n",
       "    </tr>\n",
       "    <tr>\n",
       "      <th>7137</th>\n",
       "      <td>1</td>\n",
       "      <td>0</td>\n",
       "      <td>0</td>\n",
       "    </tr>\n",
       "    <tr>\n",
       "      <th>7138</th>\n",
       "      <td>1</td>\n",
       "      <td>0</td>\n",
       "      <td>0</td>\n",
       "    </tr>\n",
       "    <tr>\n",
       "      <th>7139</th>\n",
       "      <td>0</td>\n",
       "      <td>0</td>\n",
       "      <td>1</td>\n",
       "    </tr>\n",
       "    <tr>\n",
       "      <th>7140</th>\n",
       "      <td>1</td>\n",
       "      <td>0</td>\n",
       "      <td>0</td>\n",
       "    </tr>\n",
       "  </tbody>\n",
       "</table>\n",
       "<p>7141 rows × 3 columns</p>\n",
       "</div>"
      ],
      "text/plain": [
       "      Contract_Monthly  Contract_OneYear  Contract_TwoYear\n",
       "0                    1                 0                 0\n",
       "1                    0                 1                 0\n",
       "2                    1                 0                 0\n",
       "3                    0                 1                 0\n",
       "4                    1                 0                 0\n",
       "...                ...               ...               ...\n",
       "7136                 1                 0                 0\n",
       "7137                 1                 0                 0\n",
       "7138                 1                 0                 0\n",
       "7139                 0                 0                 1\n",
       "7140                 1                 0                 0\n",
       "\n",
       "[7141 rows x 3 columns]"
      ]
     },
     "execution_count": 71,
     "metadata": {},
     "output_type": "execute_result"
    }
   ],
   "source": [
    "# Perform one-hot encoding\n",
    "data = pd.get_dummies(data, columns=['Contract'], prefix='Contract')\n",
    "\n",
    "# Get the column names\n",
    "columns = data.columns.tolist()\n",
    "\n",
    "# Move the new three columns to its position 18\n",
    "columns = columns[:17] + columns[-3:] + columns[17:-3]\n",
    "\n",
    "# Create a new DataFrame with the modified column order\n",
    "data = data[columns]\n",
    "\n",
    "# Renaming Columns\n",
    "mapping = {'Contract_Month-to-month': 'Contract_Monthly', 'Contract_One year': 'Contract_OneYear', 'Contract_Two year': 'Contract_TwoYear'}\n",
    "data.rename(columns = mapping, inplace=True)\n",
    "\n",
    "# New columns\n",
    "data.iloc[:,17:20]"
   ]
  },
  {
   "cell_type": "markdown",
   "id": "253f1fba",
   "metadata": {},
   "source": [
    "#### One-hot encoding for column PaymentMethod"
   ]
  },
  {
   "cell_type": "code",
   "execution_count": 72,
   "id": "27dc48fd",
   "metadata": {},
   "outputs": [
    {
     "data": {
      "text/plain": [
       "Electronic check             2398\n",
       "Mailed check                 1629\n",
       "Bank transfer (automatic)    1563\n",
       "Credit card (automatic)      1551\n",
       "Name: PaymentMethod, dtype: int64"
      ]
     },
     "execution_count": 72,
     "metadata": {},
     "output_type": "execute_result"
    }
   ],
   "source": [
    "# Convert categorical to numerical\n",
    "data['PaymentMethod'].value_counts()"
   ]
  },
  {
   "cell_type": "code",
   "execution_count": 73,
   "id": "0390b443",
   "metadata": {},
   "outputs": [
    {
     "data": {
      "text/html": [
       "<div>\n",
       "<style scoped>\n",
       "    .dataframe tbody tr th:only-of-type {\n",
       "        vertical-align: middle;\n",
       "    }\n",
       "\n",
       "    .dataframe tbody tr th {\n",
       "        vertical-align: top;\n",
       "    }\n",
       "\n",
       "    .dataframe thead th {\n",
       "        text-align: right;\n",
       "    }\n",
       "</style>\n",
       "<table border=\"1\" class=\"dataframe\">\n",
       "  <thead>\n",
       "    <tr style=\"text-align: right;\">\n",
       "      <th></th>\n",
       "      <th>PayMthd_BankTransfer</th>\n",
       "      <th>PayMthd_CreditCard</th>\n",
       "      <th>PayMthd_ElectronicCheck</th>\n",
       "      <th>PayMthd_MailedCheck</th>\n",
       "    </tr>\n",
       "  </thead>\n",
       "  <tbody>\n",
       "    <tr>\n",
       "      <th>0</th>\n",
       "      <td>0</td>\n",
       "      <td>0</td>\n",
       "      <td>1</td>\n",
       "      <td>0</td>\n",
       "    </tr>\n",
       "    <tr>\n",
       "      <th>1</th>\n",
       "      <td>0</td>\n",
       "      <td>0</td>\n",
       "      <td>0</td>\n",
       "      <td>1</td>\n",
       "    </tr>\n",
       "    <tr>\n",
       "      <th>2</th>\n",
       "      <td>0</td>\n",
       "      <td>0</td>\n",
       "      <td>0</td>\n",
       "      <td>1</td>\n",
       "    </tr>\n",
       "    <tr>\n",
       "      <th>3</th>\n",
       "      <td>1</td>\n",
       "      <td>0</td>\n",
       "      <td>0</td>\n",
       "      <td>0</td>\n",
       "    </tr>\n",
       "    <tr>\n",
       "      <th>4</th>\n",
       "      <td>0</td>\n",
       "      <td>0</td>\n",
       "      <td>1</td>\n",
       "      <td>0</td>\n",
       "    </tr>\n",
       "    <tr>\n",
       "      <th>...</th>\n",
       "      <td>...</td>\n",
       "      <td>...</td>\n",
       "      <td>...</td>\n",
       "      <td>...</td>\n",
       "    </tr>\n",
       "    <tr>\n",
       "      <th>7136</th>\n",
       "      <td>0</td>\n",
       "      <td>0</td>\n",
       "      <td>1</td>\n",
       "      <td>0</td>\n",
       "    </tr>\n",
       "    <tr>\n",
       "      <th>7137</th>\n",
       "      <td>0</td>\n",
       "      <td>1</td>\n",
       "      <td>0</td>\n",
       "      <td>0</td>\n",
       "    </tr>\n",
       "    <tr>\n",
       "      <th>7138</th>\n",
       "      <td>0</td>\n",
       "      <td>0</td>\n",
       "      <td>1</td>\n",
       "      <td>0</td>\n",
       "    </tr>\n",
       "    <tr>\n",
       "      <th>7139</th>\n",
       "      <td>0</td>\n",
       "      <td>1</td>\n",
       "      <td>0</td>\n",
       "      <td>0</td>\n",
       "    </tr>\n",
       "    <tr>\n",
       "      <th>7140</th>\n",
       "      <td>0</td>\n",
       "      <td>0</td>\n",
       "      <td>0</td>\n",
       "      <td>1</td>\n",
       "    </tr>\n",
       "  </tbody>\n",
       "</table>\n",
       "<p>7141 rows × 4 columns</p>\n",
       "</div>"
      ],
      "text/plain": [
       "      PayMthd_BankTransfer  PayMthd_CreditCard  PayMthd_ElectronicCheck  \\\n",
       "0                        0                   0                        1   \n",
       "1                        0                   0                        0   \n",
       "2                        0                   0                        0   \n",
       "3                        1                   0                        0   \n",
       "4                        0                   0                        1   \n",
       "...                    ...                 ...                      ...   \n",
       "7136                     0                   0                        1   \n",
       "7137                     0                   1                        0   \n",
       "7138                     0                   0                        1   \n",
       "7139                     0                   1                        0   \n",
       "7140                     0                   0                        0   \n",
       "\n",
       "      PayMthd_MailedCheck  \n",
       "0                       0  \n",
       "1                       1  \n",
       "2                       1  \n",
       "3                       0  \n",
       "4                       0  \n",
       "...                   ...  \n",
       "7136                    0  \n",
       "7137                    0  \n",
       "7138                    0  \n",
       "7139                    0  \n",
       "7140                    1  \n",
       "\n",
       "[7141 rows x 4 columns]"
      ]
     },
     "execution_count": 73,
     "metadata": {},
     "output_type": "execute_result"
    }
   ],
   "source": [
    "# Perform one-hot encoding\n",
    "data = pd.get_dummies(data, columns=['PaymentMethod'], prefix='PaymentMethod')\n",
    "\n",
    "# Get the column names\n",
    "columns = data.columns.tolist()\n",
    "\n",
    "# Move the new four columns to its position 22\n",
    "columns = columns[:21] + columns[-4:] + columns[21:-4]\n",
    "\n",
    "# Create a new DataFrame with the modified column order\n",
    "data = data[columns]\n",
    "\n",
    "# Renaming Columns\n",
    "mapping = {'PaymentMethod_Bank transfer (automatic)': 'PayMthd_BankTransfer', 'PaymentMethod_Credit card (automatic)': 'PayMthd_CreditCard', 'PaymentMethod_Electronic check': 'PayMthd_ElectronicCheck', 'PaymentMethod_Mailed check': 'PayMthd_MailedCheck'}\n",
    "data.rename(columns = mapping, inplace=True)\n",
    "\n",
    "# New columns\n",
    "data.iloc[:,21:25]"
   ]
  },
  {
   "cell_type": "markdown",
   "id": "8cfc1726",
   "metadata": {},
   "source": [
    "# 6. Typecasting all columns"
   ]
  },
  {
   "cell_type": "markdown",
   "id": "47e56f99",
   "metadata": {},
   "source": [
    "# 7. Datatype downcasting eg. int 64 to int8 etc"
   ]
  },
  {
   "cell_type": "markdown",
   "id": "240ce420",
   "metadata": {},
   "source": [
    "# 8. Column datatype from object to int,categorical, etc"
   ]
  },
  {
   "cell_type": "markdown",
   "id": "494f20a9",
   "metadata": {},
   "source": []
  }
 ],
 "metadata": {
  "kernelspec": {
   "display_name": "Python 3 (ipykernel)",
   "language": "python",
   "name": "python3"
  },
  "language_info": {
   "codemirror_mode": {
    "name": "ipython",
    "version": 3
   },
   "file_extension": ".py",
   "mimetype": "text/x-python",
   "name": "python",
   "nbconvert_exporter": "python",
   "pygments_lexer": "ipython3",
   "version": "3.10.9"
  }
 },
 "nbformat": 4,
 "nbformat_minor": 5
}
