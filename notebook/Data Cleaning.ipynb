{
 "cells": [
  {
   "cell_type": "markdown",
   "id": "9848aa77",
   "metadata": {},
   "source": [
    "# Importing the data"
   ]
  },
  {
   "cell_type": "code",
   "execution_count": 1,
   "id": "9730a5b7",
   "metadata": {},
   "outputs": [],
   "source": [
    "import numpy as np\n",
    "import pandas as pd"
   ]
  },
  {
   "cell_type": "code",
   "execution_count": null,
   "id": "da4b42bf",
   "metadata": {},
   "outputs": [],
   "source": [
    "data = pd.read_csv('data.csv')\n",
    "data.head()"
   ]
  },
  {
   "cell_type": "code",
   "execution_count": null,
   "id": "91cbc90c",
   "metadata": {},
   "outputs": [],
   "source": [
    "data.tail()"
   ]
  },
  {
   "cell_type": "code",
   "execution_count": null,
   "id": "04dd03e0",
   "metadata": {},
   "outputs": [],
   "source": [
    "data.info()"
   ]
  },
  {
   "cell_type": "code",
   "execution_count": null,
   "id": "2be3393f",
   "metadata": {},
   "outputs": [],
   "source": [
    "data.describe()"
   ]
  },
  {
   "cell_type": "markdown",
   "id": "dfb9c17e",
   "metadata": {},
   "source": [
    "# 1. Checking for duplicate entries in data"
   ]
  },
  {
   "cell_type": "code",
   "execution_count": null,
   "id": "a19db625",
   "metadata": {},
   "outputs": [],
   "source": [
    "data.duplicated().value_counts()"
   ]
  },
  {
   "cell_type": "code",
   "execution_count": null,
   "id": "4941f5fe",
   "metadata": {},
   "outputs": [],
   "source": [
    "# We have 100 duplicated rows"
   ]
  },
  {
   "cell_type": "markdown",
   "id": "8ba905ec",
   "metadata": {},
   "source": [
    "# Outliers removal"
   ]
  },
  {
   "cell_type": "code",
   "execution_count": null,
   "id": "c4917d46",
   "metadata": {},
   "outputs": [],
   "source": []
  },
  {
   "cell_type": "markdown",
   "id": "6d247c56",
   "metadata": {},
   "source": [
    "# TotalCharges - str to int"
   ]
  },
  {
   "cell_type": "code",
   "execution_count": null,
   "id": "3dd43c32",
   "metadata": {},
   "outputs": [],
   "source": []
  },
  {
   "cell_type": "markdown",
   "id": "0fc5ea11",
   "metadata": {},
   "source": [
    "# Addressing Inconsistencies in Categorical Data: Category Merge"
   ]
  },
  {
   "cell_type": "markdown",
   "id": "f54f369f",
   "metadata": {},
   "source": [
    "#### Column \"MultipleLines\" Category Merge"
   ]
  },
  {
   "cell_type": "code",
   "execution_count": null,
   "id": "36df3cf6",
   "metadata": {},
   "outputs": [],
   "source": [
    "column = 'MultipleLines'\n",
    "data[column].value_counts()\n",
    "data.loc[data[column] == 'No phone service', column] = 'No'\n",
    "data[column].value_counts()"
   ]
  },
  {
   "cell_type": "markdown",
   "id": "ecb1a17a",
   "metadata": {},
   "source": [
    "#### Column \"OnlineSecurity\" Category Merge"
   ]
  },
  {
   "cell_type": "code",
   "execution_count": null,
   "id": "f8c7cdf0",
   "metadata": {},
   "outputs": [],
   "source": [
    "column = 'OnlineSecurity'\n",
    "data[column].value_counts()\n",
    "data.loc[data[column] == 'No internet service', column] = 'No'\n",
    "data[column].value_counts()"
   ]
  },
  {
   "cell_type": "markdown",
   "id": "e56d2580",
   "metadata": {},
   "source": [
    "#### Column \"OnlineBackup\"Category Merge"
   ]
  },
  {
   "cell_type": "code",
   "execution_count": null,
   "id": "cc6b2143",
   "metadata": {},
   "outputs": [],
   "source": [
    "column = 'OnlineBackup'\n",
    "data[column].value_counts()\n",
    "data.loc[data[column] == 'No internet service', column] = 'No'\n",
    "data[column].value_counts()"
   ]
  },
  {
   "cell_type": "markdown",
   "id": "8a9c6e8a",
   "metadata": {},
   "source": [
    "#### Column \"DeviceProtection\" Category Merge"
   ]
  },
  {
   "cell_type": "code",
   "execution_count": null,
   "id": "ce30d980",
   "metadata": {},
   "outputs": [],
   "source": [
    "column = 'DeviceProtection'\n",
    "data[column].value_counts()\n",
    "data.loc[data[column] == 'No internet service', column] = 'No'\n",
    "data[column].value_counts()"
   ]
  },
  {
   "cell_type": "markdown",
   "id": "cb7629d0",
   "metadata": {},
   "source": [
    "#### Column \"TechSupport\" Category Merge"
   ]
  },
  {
   "cell_type": "code",
   "execution_count": null,
   "id": "305b3745",
   "metadata": {},
   "outputs": [],
   "source": [
    "column = 'TechSupport'\n",
    "data[column].value_counts()\n",
    "data.loc[data[column] == 'No internet service', column] = 'No'\n",
    "data[column].value_counts()"
   ]
  },
  {
   "cell_type": "markdown",
   "id": "8b01a1a8",
   "metadata": {},
   "source": [
    "#### Column \"StreamingTV\" Category Merge"
   ]
  },
  {
   "cell_type": "code",
   "execution_count": null,
   "id": "3329fd80",
   "metadata": {},
   "outputs": [],
   "source": [
    "column = 'StreamingTV'\n",
    "data[column].value_counts()\n",
    "data.loc[data[column] == 'No internet service', column] = 'No'\n",
    "data[column].value_counts()"
   ]
  },
  {
   "cell_type": "markdown",
   "id": "4a6666f3",
   "metadata": {},
   "source": [
    "#### Column \"StreamingMovies\" Category Merge"
   ]
  },
  {
   "cell_type": "code",
   "execution_count": null,
   "id": "7e0f48f0",
   "metadata": {},
   "outputs": [],
   "source": [
    "column = 'StreamingMovies'\n",
    "data[column].value_counts()\n",
    "data.loc[data[column] == 'No internet service', column] = 'No'\n",
    "data[column].value_counts()"
   ]
  },
  {
   "cell_type": "markdown",
   "id": "5eed0d59",
   "metadata": {},
   "source": [
    "# Standardizing Data Formats: Yes/No to 1/0"
   ]
  },
  {
   "cell_type": "code",
   "execution_count": null,
   "id": "34bda1ae",
   "metadata": {},
   "outputs": [],
   "source": [
    "columns = ['Partner', 'Dependents', 'PhoneService', 'MultipleLines', 'OnlineSecurity', 'OnlineBackup', 'DeviceProtection', 'TechSupport', 'StreamingTV', 'StreamingMovies', 'PaperlessBilling', 'Churn']\n",
    "mapping = {'Yes': 1, 'No': 0}\n",
    "\n",
    "for column in columns:\n",
    "    data[column] = data[column].map(mapping)"
   ]
  },
  {
   "cell_type": "markdown",
   "id": "bbd2a956",
   "metadata": {},
   "source": [
    "# Standardizing Data Formats: Male/Female to 1/0"
   ]
  },
  {
   "cell_type": "code",
   "execution_count": null,
   "id": "0fc650ad",
   "metadata": {},
   "outputs": [],
   "source": [
    "mapping = {'Male': 1, 'Female': 0}\n",
    "data['gender'] = data['gender'].map(mapping)"
   ]
  },
  {
   "cell_type": "markdown",
   "id": "c51a5dbb",
   "metadata": {},
   "source": [
    "# One-hot encoding for categorical features"
   ]
  },
  {
   "cell_type": "markdown",
   "id": "e04fd3cd",
   "metadata": {},
   "source": [
    "#### One-hot encoding for column InternetService"
   ]
  },
  {
   "cell_type": "code",
   "execution_count": 24,
   "id": "5b15f1bb",
   "metadata": {},
   "outputs": [],
   "source": [
    "# Convert categorical to numerical\n",
    "data['InternetService'].value_counts()\n",
    "\n",
    "# Perform one-hot encoding\n",
    "data = pd.get_dummies(data, columns=['InternetService'], prefix='InternetService')\n",
    "\n",
    "# Get the column names\n",
    "columns = data.columns.tolist()\n",
    "\n",
    "# Move the new three columns to its position 10\n",
    "columns = columns[:9] + columns[-3:] + columns[9:-3]\n",
    "\n",
    "# Create a new DataFrame with the modified column order\n",
    "data = data[columns]"
   ]
  },
  {
   "cell_type": "markdown",
   "id": "bff8f9b2",
   "metadata": {},
   "source": [
    "#### One-hot encoding for column Contract"
   ]
  },
  {
   "cell_type": "code",
   "execution_count": null,
   "id": "80d6711a",
   "metadata": {},
   "outputs": [],
   "source": [
    "data['Contract'].value_counts()"
   ]
  },
  {
   "cell_type": "markdown",
   "id": "253f1fba",
   "metadata": {},
   "source": [
    "#### One-hot encoding for column PaymentMethod"
   ]
  },
  {
   "cell_type": "code",
   "execution_count": null,
   "id": "27dc48fd",
   "metadata": {},
   "outputs": [],
   "source": [
    "# data['PaymentMethod'].value_counts()"
   ]
  },
  {
   "cell_type": "markdown",
   "id": "8cfc1726",
   "metadata": {},
   "source": [
    "# Typecasting all columns"
   ]
  },
  {
   "cell_type": "code",
   "execution_count": null,
   "id": "47e56f99",
   "metadata": {},
   "outputs": [],
   "source": []
  }
 ],
 "metadata": {
  "kernelspec": {
   "display_name": "Python 3 (ipykernel)",
   "language": "python",
   "name": "python3"
  },
  "language_info": {
   "codemirror_mode": {
    "name": "ipython",
    "version": 3
   },
   "file_extension": ".py",
   "mimetype": "text/x-python",
   "name": "python",
   "nbconvert_exporter": "python",
   "pygments_lexer": "ipython3",
   "version": "3.9.13"
  }
 },
 "nbformat": 4,
 "nbformat_minor": 5
}
