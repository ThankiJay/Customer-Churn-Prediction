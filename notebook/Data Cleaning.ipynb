{
 "cells": [
  {
   "cell_type": "markdown",
   "id": "9848aa77",
   "metadata": {},
   "source": [
    "# Importing the data"
   ]
  },
  {
   "cell_type": "code",
   "execution_count": 5,
   "id": "9730a5b7",
   "metadata": {},
   "outputs": [],
   "source": [
    "import numpy as np\n",
    "import pandas as pd"
   ]
  },
  {
   "cell_type": "code",
   "execution_count": 67,
   "id": "da4b42bf",
   "metadata": {},
   "outputs": [],
   "source": [
    "data = pd.read_csv('data.csv')\n",
    "# data.head()"
   ]
  },
  {
   "cell_type": "code",
   "execution_count": null,
   "id": "91cbc90c",
   "metadata": {},
   "outputs": [],
   "source": [
    "data.tail()"
   ]
  },
  {
   "cell_type": "code",
   "execution_count": null,
   "id": "04dd03e0",
   "metadata": {},
   "outputs": [],
   "source": [
    "data.info()"
   ]
  },
  {
   "cell_type": "code",
   "execution_count": null,
   "id": "2be3393f",
   "metadata": {},
   "outputs": [],
   "source": [
    "data.describe()"
   ]
  },
  {
   "cell_type": "markdown",
   "id": "dfb9c17e",
   "metadata": {},
   "source": [
    "# 1. Checking for duplicate entries in data"
   ]
  },
  {
   "cell_type": "code",
   "execution_count": null,
   "id": "a19db625",
   "metadata": {},
   "outputs": [],
   "source": [
    "data.duplicated().value_counts()"
   ]
  },
  {
   "cell_type": "code",
   "execution_count": null,
   "id": "4941f5fe",
   "metadata": {},
   "outputs": [],
   "source": [
    "# We have 100 duplicated rows"
   ]
  },
  {
   "cell_type": "markdown",
   "id": "8ba905ec",
   "metadata": {},
   "source": [
    "# Outliers removal"
   ]
  },
  {
   "cell_type": "code",
   "execution_count": null,
   "id": "c4917d46",
   "metadata": {},
   "outputs": [],
   "source": []
  },
  {
   "cell_type": "markdown",
   "id": "6d247c56",
   "metadata": {},
   "source": [
    "# TotalCharges - str to int"
   ]
  },
  {
   "cell_type": "code",
   "execution_count": null,
   "id": "3dd43c32",
   "metadata": {},
   "outputs": [],
   "source": []
  },
  {
   "cell_type": "markdown",
   "id": "0fc5ea11",
   "metadata": {},
   "source": [
    "# Addressing Inconsistencies in Categorical Data: Category Merge"
   ]
  },
  {
   "cell_type": "markdown",
   "id": "f54f369f",
   "metadata": {},
   "source": [
    "#### Column \"MultipleLines\" Category Merge"
   ]
  },
  {
   "cell_type": "code",
   "execution_count": 36,
   "id": "36df3cf6",
   "metadata": {},
   "outputs": [
    {
     "data": {
      "text/plain": [
       "No     4119\n",
       "Yes    3022\n",
       "Name: MultipleLines, dtype: int64"
      ]
     },
     "execution_count": 36,
     "metadata": {},
     "output_type": "execute_result"
    }
   ],
   "source": [
    "column = 'MultipleLines'\n",
    "data[column].value_counts()\n",
    "data.loc[data[column] == 'No phone service', column] = 'No'\n",
    "data[column].value_counts()"
   ]
  },
  {
   "cell_type": "markdown",
   "id": "ecb1a17a",
   "metadata": {},
   "source": [
    "#### Column \"OnlineSecurity\" Category Merge"
   ]
  },
  {
   "cell_type": "code",
   "execution_count": 37,
   "id": "f8c7cdf0",
   "metadata": {},
   "outputs": [
    {
     "data": {
      "text/plain": [
       "No     5084\n",
       "Yes    2040\n",
       "Name: OnlineSecurity, dtype: int64"
      ]
     },
     "execution_count": 37,
     "metadata": {},
     "output_type": "execute_result"
    }
   ],
   "source": [
    "column = 'OnlineSecurity'\n",
    "data[column].value_counts()\n",
    "data.loc[data[column] == 'No internet service', column] = 'No'\n",
    "data[column].value_counts()"
   ]
  },
  {
   "cell_type": "markdown",
   "id": "e56d2580",
   "metadata": {},
   "source": [
    "#### Column \"OnlineBackup\"Category Merge"
   ]
  },
  {
   "cell_type": "code",
   "execution_count": 38,
   "id": "cc6b2143",
   "metadata": {},
   "outputs": [
    {
     "data": {
      "text/plain": [
       "No     4675\n",
       "Yes    2466\n",
       "Name: OnlineBackup, dtype: int64"
      ]
     },
     "execution_count": 38,
     "metadata": {},
     "output_type": "execute_result"
    }
   ],
   "source": [
    "column = 'OnlineBackup'\n",
    "data[column].value_counts()\n",
    "data.loc[data[column] == 'No internet service', column] = 'No'\n",
    "data[column].value_counts()"
   ]
  },
  {
   "cell_type": "markdown",
   "id": "8a9c6e8a",
   "metadata": {},
   "source": [
    "#### Column \"DeviceProtection\" Category Merge"
   ]
  },
  {
   "cell_type": "code",
   "execution_count": 39,
   "id": "ce30d980",
   "metadata": {},
   "outputs": [
    {
     "data": {
      "text/plain": [
       "No     4679\n",
       "Yes    2462\n",
       "Name: DeviceProtection, dtype: int64"
      ]
     },
     "execution_count": 39,
     "metadata": {},
     "output_type": "execute_result"
    }
   ],
   "source": [
    "column = 'DeviceProtection'\n",
    "data[column].value_counts()\n",
    "data.loc[data[column] == 'No internet service', column] = 'No'\n",
    "data[column].value_counts()"
   ]
  },
  {
   "cell_type": "markdown",
   "id": "cb7629d0",
   "metadata": {},
   "source": [
    "#### Column \"TechSupport\" Category Merge"
   ]
  },
  {
   "cell_type": "code",
   "execution_count": 40,
   "id": "305b3745",
   "metadata": {},
   "outputs": [
    {
     "data": {
      "text/plain": [
       "No     5069\n",
       "Yes    2072\n",
       "Name: TechSupport, dtype: int64"
      ]
     },
     "execution_count": 40,
     "metadata": {},
     "output_type": "execute_result"
    }
   ],
   "source": [
    "column = 'TechSupport'\n",
    "data[column].value_counts()\n",
    "data.loc[data[column] == 'No internet service', column] = 'No'\n",
    "data[column].value_counts()"
   ]
  },
  {
   "cell_type": "markdown",
   "id": "8b01a1a8",
   "metadata": {},
   "source": [
    "#### Column \"StreamingTV\" Category Merge"
   ]
  },
  {
   "cell_type": "code",
   "execution_count": 41,
   "id": "3329fd80",
   "metadata": {},
   "outputs": [
    {
     "data": {
      "text/plain": [
       "No     4392\n",
       "Yes    2749\n",
       "Name: StreamingTV, dtype: int64"
      ]
     },
     "execution_count": 41,
     "metadata": {},
     "output_type": "execute_result"
    }
   ],
   "source": [
    "column = 'StreamingTV'\n",
    "data[column].value_counts()\n",
    "data.loc[data[column] == 'No internet service', column] = 'No'\n",
    "data[column].value_counts()"
   ]
  },
  {
   "cell_type": "markdown",
   "id": "4a6666f3",
   "metadata": {},
   "source": [
    "#### Column \"StreamingMovies\" Category Merge"
   ]
  },
  {
   "cell_type": "code",
   "execution_count": 42,
   "id": "7e0f48f0",
   "metadata": {},
   "outputs": [
    {
     "data": {
      "text/plain": [
       "No     4376\n",
       "Yes    2765\n",
       "Name: StreamingMovies, dtype: int64"
      ]
     },
     "execution_count": 42,
     "metadata": {},
     "output_type": "execute_result"
    }
   ],
   "source": [
    "column = 'StreamingMovies'\n",
    "data[column].value_counts()\n",
    "data.loc[data[column] == 'No internet service', column] = 'No'\n",
    "data[column].value_counts()"
   ]
  },
  {
   "cell_type": "markdown",
   "id": "5eed0d59",
   "metadata": {},
   "source": [
    "# Standardizing Data Formats: Yes/No to 1/0"
   ]
  },
  {
   "cell_type": "code",
   "execution_count": 43,
   "id": "34bda1ae",
   "metadata": {},
   "outputs": [],
   "source": [
    "columns = ['Partner', 'Dependents', 'PhoneService', 'MultipleLines', 'OnlineSecurity', 'OnlineBackup', 'DeviceProtection', 'TechSupport', 'StreamingTV', 'StreamingMovies', 'PaperlessBilling', 'Churn']\n",
    "mapping = {'Yes': 1, 'No': 0}\n",
    "\n",
    "for column in columns:\n",
    "    data[column] = data[column].map(mapping)"
   ]
  },
  {
   "cell_type": "markdown",
   "id": "bbd2a956",
   "metadata": {},
   "source": [
    "# Standardizing Data Formats: Male/Female to 1/0"
   ]
  },
  {
   "cell_type": "code",
   "execution_count": 44,
   "id": "0fc650ad",
   "metadata": {},
   "outputs": [],
   "source": [
    "mapping = {'Male': 1, 'Female': 0}\n",
    "data['gender'] = data['gender'].map(mapping)"
   ]
  },
  {
   "cell_type": "markdown",
   "id": "c51a5dbb",
   "metadata": {},
   "source": [
    "# One-hot encoding for categorical features"
   ]
  },
  {
   "cell_type": "markdown",
   "id": "e04fd3cd",
   "metadata": {},
   "source": [
    "#### One-hot encoding for column InternetService"
   ]
  },
  {
   "cell_type": "code",
   "execution_count": 68,
   "id": "5b15f1bb",
   "metadata": {},
   "outputs": [
    {
     "data": {
      "text/plain": [
       "Fiber optic    3135\n",
       "DSL            2460\n",
       "No             1546\n",
       "Name: InternetService, dtype: int64"
      ]
     },
     "execution_count": 68,
     "metadata": {},
     "output_type": "execute_result"
    }
   ],
   "source": [
    "# Convert categorical to numerical\n",
    "data['InternetService'].value_counts()"
   ]
  },
  {
   "cell_type": "code",
   "execution_count": 69,
   "id": "82a822a8",
   "metadata": {},
   "outputs": [
    {
     "data": {
      "text/html": [
       "<div>\n",
       "<style scoped>\n",
       "    .dataframe tbody tr th:only-of-type {\n",
       "        vertical-align: middle;\n",
       "    }\n",
       "\n",
       "    .dataframe tbody tr th {\n",
       "        vertical-align: top;\n",
       "    }\n",
       "\n",
       "    .dataframe thead th {\n",
       "        text-align: right;\n",
       "    }\n",
       "</style>\n",
       "<table border=\"1\" class=\"dataframe\">\n",
       "  <thead>\n",
       "    <tr style=\"text-align: right;\">\n",
       "      <th></th>\n",
       "      <th>IntrntSrvc_DSL</th>\n",
       "      <th>IntrntSrvc_FiberOptic</th>\n",
       "      <th>IntrntSrvc_No</th>\n",
       "    </tr>\n",
       "  </thead>\n",
       "  <tbody>\n",
       "    <tr>\n",
       "      <th>0</th>\n",
       "      <td>1</td>\n",
       "      <td>0</td>\n",
       "      <td>0</td>\n",
       "    </tr>\n",
       "    <tr>\n",
       "      <th>1</th>\n",
       "      <td>1</td>\n",
       "      <td>0</td>\n",
       "      <td>0</td>\n",
       "    </tr>\n",
       "    <tr>\n",
       "      <th>2</th>\n",
       "      <td>1</td>\n",
       "      <td>0</td>\n",
       "      <td>0</td>\n",
       "    </tr>\n",
       "    <tr>\n",
       "      <th>3</th>\n",
       "      <td>1</td>\n",
       "      <td>0</td>\n",
       "      <td>0</td>\n",
       "    </tr>\n",
       "    <tr>\n",
       "      <th>4</th>\n",
       "      <td>0</td>\n",
       "      <td>1</td>\n",
       "      <td>0</td>\n",
       "    </tr>\n",
       "    <tr>\n",
       "      <th>...</th>\n",
       "      <td>...</td>\n",
       "      <td>...</td>\n",
       "      <td>...</td>\n",
       "    </tr>\n",
       "    <tr>\n",
       "      <th>7136</th>\n",
       "      <td>0</td>\n",
       "      <td>1</td>\n",
       "      <td>0</td>\n",
       "    </tr>\n",
       "    <tr>\n",
       "      <th>7137</th>\n",
       "      <td>0</td>\n",
       "      <td>1</td>\n",
       "      <td>0</td>\n",
       "    </tr>\n",
       "    <tr>\n",
       "      <th>7138</th>\n",
       "      <td>1</td>\n",
       "      <td>0</td>\n",
       "      <td>0</td>\n",
       "    </tr>\n",
       "    <tr>\n",
       "      <th>7139</th>\n",
       "      <td>0</td>\n",
       "      <td>1</td>\n",
       "      <td>0</td>\n",
       "    </tr>\n",
       "    <tr>\n",
       "      <th>7140</th>\n",
       "      <td>1</td>\n",
       "      <td>0</td>\n",
       "      <td>0</td>\n",
       "    </tr>\n",
       "  </tbody>\n",
       "</table>\n",
       "<p>7141 rows × 3 columns</p>\n",
       "</div>"
      ],
      "text/plain": [
       "      IntrntSrvc_DSL  IntrntSrvc_FiberOptic  IntrntSrvc_No\n",
       "0                  1                      0              0\n",
       "1                  1                      0              0\n",
       "2                  1                      0              0\n",
       "3                  1                      0              0\n",
       "4                  0                      1              0\n",
       "...              ...                    ...            ...\n",
       "7136               0                      1              0\n",
       "7137               0                      1              0\n",
       "7138               1                      0              0\n",
       "7139               0                      1              0\n",
       "7140               1                      0              0\n",
       "\n",
       "[7141 rows x 3 columns]"
      ]
     },
     "execution_count": 69,
     "metadata": {},
     "output_type": "execute_result"
    }
   ],
   "source": [
    "# Perform one-hot encoding\n",
    "data = pd.get_dummies(data, columns=['InternetService'], prefix='InternetService')\n",
    "\n",
    "# Get the column names\n",
    "columns = data.columns.tolist()\n",
    "\n",
    "# Move the new three columns to its position 9\n",
    "columns = columns[:8] + columns[-3:] + columns[8:-3]\n",
    "\n",
    "# Create a new DataFrame with the modified column order\n",
    "data = data[columns]\n",
    "\n",
    "# Renaming Columns\n",
    "mapping = {'InternetService_DSL': 'IntrntSrvc_DSL', 'InternetService_Fiber optic': 'IntrntSrvc_FiberOptic', 'InternetService_No': 'IntrntSrvc_No'}\n",
    "data.rename(columns = mapping, inplace=True)\n",
    "\n",
    "# New columns\n",
    "data.iloc[:,8:11]"
   ]
  },
  {
   "cell_type": "markdown",
   "id": "bff8f9b2",
   "metadata": {},
   "source": [
    "#### One-hot encoding for column Contract"
   ]
  },
  {
   "cell_type": "code",
   "execution_count": 70,
   "id": "80d6711a",
   "metadata": {},
   "outputs": [
    {
     "data": {
      "text/plain": [
       "Month-to-month    3932\n",
       "Two year          1721\n",
       "One year          1488\n",
       "Name: Contract, dtype: int64"
      ]
     },
     "execution_count": 70,
     "metadata": {},
     "output_type": "execute_result"
    }
   ],
   "source": [
    "# Convert categorical to numerical\n",
    "data['Contract'].value_counts()"
   ]
  },
  {
   "cell_type": "code",
   "execution_count": 71,
   "id": "2a3cbecf",
   "metadata": {},
   "outputs": [
    {
     "data": {
      "text/html": [
       "<div>\n",
       "<style scoped>\n",
       "    .dataframe tbody tr th:only-of-type {\n",
       "        vertical-align: middle;\n",
       "    }\n",
       "\n",
       "    .dataframe tbody tr th {\n",
       "        vertical-align: top;\n",
       "    }\n",
       "\n",
       "    .dataframe thead th {\n",
       "        text-align: right;\n",
       "    }\n",
       "</style>\n",
       "<table border=\"1\" class=\"dataframe\">\n",
       "  <thead>\n",
       "    <tr style=\"text-align: right;\">\n",
       "      <th></th>\n",
       "      <th>Contract_Monthly</th>\n",
       "      <th>Contract_OneYear</th>\n",
       "      <th>Contract_TwoYear</th>\n",
       "    </tr>\n",
       "  </thead>\n",
       "  <tbody>\n",
       "    <tr>\n",
       "      <th>0</th>\n",
       "      <td>1</td>\n",
       "      <td>0</td>\n",
       "      <td>0</td>\n",
       "    </tr>\n",
       "    <tr>\n",
       "      <th>1</th>\n",
       "      <td>0</td>\n",
       "      <td>1</td>\n",
       "      <td>0</td>\n",
       "    </tr>\n",
       "    <tr>\n",
       "      <th>2</th>\n",
       "      <td>1</td>\n",
       "      <td>0</td>\n",
       "      <td>0</td>\n",
       "    </tr>\n",
       "    <tr>\n",
       "      <th>3</th>\n",
       "      <td>0</td>\n",
       "      <td>1</td>\n",
       "      <td>0</td>\n",
       "    </tr>\n",
       "    <tr>\n",
       "      <th>4</th>\n",
       "      <td>1</td>\n",
       "      <td>0</td>\n",
       "      <td>0</td>\n",
       "    </tr>\n",
       "    <tr>\n",
       "      <th>...</th>\n",
       "      <td>...</td>\n",
       "      <td>...</td>\n",
       "      <td>...</td>\n",
       "    </tr>\n",
       "    <tr>\n",
       "      <th>7136</th>\n",
       "      <td>1</td>\n",
       "      <td>0</td>\n",
       "      <td>0</td>\n",
       "    </tr>\n",
       "    <tr>\n",
       "      <th>7137</th>\n",
       "      <td>1</td>\n",
       "      <td>0</td>\n",
       "      <td>0</td>\n",
       "    </tr>\n",
       "    <tr>\n",
       "      <th>7138</th>\n",
       "      <td>1</td>\n",
       "      <td>0</td>\n",
       "      <td>0</td>\n",
       "    </tr>\n",
       "    <tr>\n",
       "      <th>7139</th>\n",
       "      <td>0</td>\n",
       "      <td>0</td>\n",
       "      <td>1</td>\n",
       "    </tr>\n",
       "    <tr>\n",
       "      <th>7140</th>\n",
       "      <td>1</td>\n",
       "      <td>0</td>\n",
       "      <td>0</td>\n",
       "    </tr>\n",
       "  </tbody>\n",
       "</table>\n",
       "<p>7141 rows × 3 columns</p>\n",
       "</div>"
      ],
      "text/plain": [
       "      Contract_Monthly  Contract_OneYear  Contract_TwoYear\n",
       "0                    1                 0                 0\n",
       "1                    0                 1                 0\n",
       "2                    1                 0                 0\n",
       "3                    0                 1                 0\n",
       "4                    1                 0                 0\n",
       "...                ...               ...               ...\n",
       "7136                 1                 0                 0\n",
       "7137                 1                 0                 0\n",
       "7138                 1                 0                 0\n",
       "7139                 0                 0                 1\n",
       "7140                 1                 0                 0\n",
       "\n",
       "[7141 rows x 3 columns]"
      ]
     },
     "execution_count": 71,
     "metadata": {},
     "output_type": "execute_result"
    }
   ],
   "source": [
    "# Perform one-hot encoding\n",
    "data = pd.get_dummies(data, columns=['Contract'], prefix='Contract')\n",
    "\n",
    "# Get the column names\n",
    "columns = data.columns.tolist()\n",
    "\n",
    "# Move the new three columns to its position 18\n",
    "columns = columns[:17] + columns[-3:] + columns[17:-3]\n",
    "\n",
    "# Create a new DataFrame with the modified column order\n",
    "data = data[columns]\n",
    "\n",
    "# Renaming Columns\n",
    "mapping = {'Contract_Month-to-month': 'Contract_Monthly', 'Contract_One year': 'Contract_OneYear', 'Contract_Two year': 'Contract_TwoYear'}\n",
    "data.rename(columns = mapping, inplace=True)\n",
    "\n",
    "# New columns\n",
    "data.iloc[:,17:20]"
   ]
  },
  {
   "cell_type": "markdown",
   "id": "253f1fba",
   "metadata": {},
   "source": [
    "#### One-hot encoding for column PaymentMethod"
   ]
  },
  {
   "cell_type": "code",
   "execution_count": 72,
   "id": "27dc48fd",
   "metadata": {},
   "outputs": [
    {
     "data": {
      "text/plain": [
       "Electronic check             2398\n",
       "Mailed check                 1629\n",
       "Bank transfer (automatic)    1563\n",
       "Credit card (automatic)      1551\n",
       "Name: PaymentMethod, dtype: int64"
      ]
     },
     "execution_count": 72,
     "metadata": {},
     "output_type": "execute_result"
    }
   ],
   "source": [
    "# Convert categorical to numerical\n",
    "data['PaymentMethod'].value_counts()"
   ]
  },
  {
   "cell_type": "code",
   "execution_count": 73,
   "id": "0390b443",
   "metadata": {},
   "outputs": [
    {
     "data": {
      "text/html": [
       "<div>\n",
       "<style scoped>\n",
       "    .dataframe tbody tr th:only-of-type {\n",
       "        vertical-align: middle;\n",
       "    }\n",
       "\n",
       "    .dataframe tbody tr th {\n",
       "        vertical-align: top;\n",
       "    }\n",
       "\n",
       "    .dataframe thead th {\n",
       "        text-align: right;\n",
       "    }\n",
       "</style>\n",
       "<table border=\"1\" class=\"dataframe\">\n",
       "  <thead>\n",
       "    <tr style=\"text-align: right;\">\n",
       "      <th></th>\n",
       "      <th>PayMthd_BankTransfer</th>\n",
       "      <th>PayMthd_CreditCard</th>\n",
       "      <th>PayMthd_ElectronicCheck</th>\n",
       "      <th>PayMthd_MailedCheck</th>\n",
       "    </tr>\n",
       "  </thead>\n",
       "  <tbody>\n",
       "    <tr>\n",
       "      <th>0</th>\n",
       "      <td>0</td>\n",
       "      <td>0</td>\n",
       "      <td>1</td>\n",
       "      <td>0</td>\n",
       "    </tr>\n",
       "    <tr>\n",
       "      <th>1</th>\n",
       "      <td>0</td>\n",
       "      <td>0</td>\n",
       "      <td>0</td>\n",
       "      <td>1</td>\n",
       "    </tr>\n",
       "    <tr>\n",
       "      <th>2</th>\n",
       "      <td>0</td>\n",
       "      <td>0</td>\n",
       "      <td>0</td>\n",
       "      <td>1</td>\n",
       "    </tr>\n",
       "    <tr>\n",
       "      <th>3</th>\n",
       "      <td>1</td>\n",
       "      <td>0</td>\n",
       "      <td>0</td>\n",
       "      <td>0</td>\n",
       "    </tr>\n",
       "    <tr>\n",
       "      <th>4</th>\n",
       "      <td>0</td>\n",
       "      <td>0</td>\n",
       "      <td>1</td>\n",
       "      <td>0</td>\n",
       "    </tr>\n",
       "    <tr>\n",
       "      <th>...</th>\n",
       "      <td>...</td>\n",
       "      <td>...</td>\n",
       "      <td>...</td>\n",
       "      <td>...</td>\n",
       "    </tr>\n",
       "    <tr>\n",
       "      <th>7136</th>\n",
       "      <td>0</td>\n",
       "      <td>0</td>\n",
       "      <td>1</td>\n",
       "      <td>0</td>\n",
       "    </tr>\n",
       "    <tr>\n",
       "      <th>7137</th>\n",
       "      <td>0</td>\n",
       "      <td>1</td>\n",
       "      <td>0</td>\n",
       "      <td>0</td>\n",
       "    </tr>\n",
       "    <tr>\n",
       "      <th>7138</th>\n",
       "      <td>0</td>\n",
       "      <td>0</td>\n",
       "      <td>1</td>\n",
       "      <td>0</td>\n",
       "    </tr>\n",
       "    <tr>\n",
       "      <th>7139</th>\n",
       "      <td>0</td>\n",
       "      <td>1</td>\n",
       "      <td>0</td>\n",
       "      <td>0</td>\n",
       "    </tr>\n",
       "    <tr>\n",
       "      <th>7140</th>\n",
       "      <td>0</td>\n",
       "      <td>0</td>\n",
       "      <td>0</td>\n",
       "      <td>1</td>\n",
       "    </tr>\n",
       "  </tbody>\n",
       "</table>\n",
       "<p>7141 rows × 4 columns</p>\n",
       "</div>"
      ],
      "text/plain": [
       "      PayMthd_BankTransfer  PayMthd_CreditCard  PayMthd_ElectronicCheck  \\\n",
       "0                        0                   0                        1   \n",
       "1                        0                   0                        0   \n",
       "2                        0                   0                        0   \n",
       "3                        1                   0                        0   \n",
       "4                        0                   0                        1   \n",
       "...                    ...                 ...                      ...   \n",
       "7136                     0                   0                        1   \n",
       "7137                     0                   1                        0   \n",
       "7138                     0                   0                        1   \n",
       "7139                     0                   1                        0   \n",
       "7140                     0                   0                        0   \n",
       "\n",
       "      PayMthd_MailedCheck  \n",
       "0                       0  \n",
       "1                       1  \n",
       "2                       1  \n",
       "3                       0  \n",
       "4                       0  \n",
       "...                   ...  \n",
       "7136                    0  \n",
       "7137                    0  \n",
       "7138                    0  \n",
       "7139                    0  \n",
       "7140                    1  \n",
       "\n",
       "[7141 rows x 4 columns]"
      ]
     },
     "execution_count": 73,
     "metadata": {},
     "output_type": "execute_result"
    }
   ],
   "source": [
    "# Perform one-hot encoding\n",
    "data = pd.get_dummies(data, columns=['PaymentMethod'], prefix='PaymentMethod')\n",
    "\n",
    "# Get the column names\n",
    "columns = data.columns.tolist()\n",
    "\n",
    "# Move the new four columns to its position 22\n",
    "columns = columns[:21] + columns[-4:] + columns[21:-4]\n",
    "\n",
    "# Create a new DataFrame with the modified column order\n",
    "data = data[columns]\n",
    "\n",
    "# Renaming Columns\n",
    "mapping = {'PaymentMethod_Bank transfer (automatic)': 'PayMthd_BankTransfer', 'PaymentMethod_Credit card (automatic)': 'PayMthd_CreditCard', 'PaymentMethod_Electronic check': 'PayMthd_ElectronicCheck', 'PaymentMethod_Mailed check': 'PayMthd_MailedCheck'}\n",
    "data.rename(columns = mapping, inplace=True)\n",
    "\n",
    "# New columns\n",
    "data.iloc[:,21:25]"
   ]
  },
  {
   "cell_type": "markdown",
   "id": "8cfc1726",
   "metadata": {},
   "source": [
    "# Typecasting all columns"
   ]
  },
  {
   "cell_type": "code",
   "execution_count": null,
   "id": "47e56f99",
   "metadata": {},
   "outputs": [],
   "source": []
  }
 ],
 "metadata": {
  "kernelspec": {
   "display_name": "Python 3 (ipykernel)",
   "language": "python",
   "name": "python3"
  },
  "language_info": {
   "codemirror_mode": {
    "name": "ipython",
    "version": 3
   },
   "file_extension": ".py",
   "mimetype": "text/x-python",
   "name": "python",
   "nbconvert_exporter": "python",
   "pygments_lexer": "ipython3",
   "version": "3.9.13"
  }
 },
 "nbformat": 4,
 "nbformat_minor": 5
}
