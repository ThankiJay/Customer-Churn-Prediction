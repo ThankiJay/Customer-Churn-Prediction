{
 "cells": [
  {
   "cell_type": "markdown",
   "id": "9848aa77",
   "metadata": {},
   "source": [
    "# Importing the data"
   ]
  },
  {
   "cell_type": "code",
   "execution_count": null,
   "id": "9730a5b7",
   "metadata": {},
   "outputs": [],
   "source": [
    "import numpy as np\n",
    "import pandas as pd\n",
    "import matplotlib.pyplot as plt\n",
    "import seaborn as sns\n",
    "%matplotlib inline"
   ]
  },
  {
   "cell_type": "code",
   "execution_count": null,
   "id": "da4b42bf",
   "metadata": {},
   "outputs": [],
   "source": [
    "data = pd.read_csv('data.csv')\n",
    "data.head()"
   ]
  },
  {
   "cell_type": "code",
   "execution_count": null,
   "id": "91cbc90c",
   "metadata": {},
   "outputs": [],
   "source": [
    "data.tail()"
   ]
  },
  {
   "cell_type": "code",
   "execution_count": null,
   "id": "04dd03e0",
   "metadata": {},
   "outputs": [],
   "source": [
    "data.info()"
   ]
  },
  {
   "cell_type": "code",
   "execution_count": null,
   "id": "2be3393f",
   "metadata": {},
   "outputs": [],
   "source": [
    "data.describe()"
   ]
  },
  {
   "cell_type": "markdown",
   "id": "f0db0b01",
   "metadata": {},
   "source": [
    "# Missing data"
   ]
  },
  {
   "cell_type": "code",
   "execution_count": null,
   "id": "47866d85",
   "metadata": {},
   "outputs": [],
   "source": [
    "# Checking for missing data\n",
    "data.isnull().sum()"
   ]
  },
  {
   "cell_type": "code",
   "execution_count": null,
   "id": "faf7dad8",
   "metadata": {},
   "outputs": [],
   "source": [
    "# Checking column 'OnlineSecurity' as it shows 17 counts in isnull\n",
    "data['OnlineSecurity']"
   ]
  },
  {
   "cell_type": "code",
   "execution_count": null,
   "id": "7e4a8fa6",
   "metadata": {},
   "outputs": [],
   "source": [
    "data['OnlineSecurity'].value_counts()"
   ]
  },
  {
   "cell_type": "markdown",
   "id": "f6e7f9fb",
   "metadata": {},
   "source": [
    "##### Column OnlineSecurity is a categorical data and 50% of the people have No as the categorical value so replacing missing values with No. Using the mode of the column for data imputation."
   ]
  },
  {
   "cell_type": "code",
   "execution_count": null,
   "id": "4c870b7e",
   "metadata": {},
   "outputs": [],
   "source": [
    "data['OnlineSecurity'] = data['OnlineSecurity'].fillna(data['OnlineSecurity'].mode()[0])"
   ]
  },
  {
   "cell_type": "code",
   "execution_count": null,
   "id": "58bb97b7",
   "metadata": {},
   "outputs": [],
   "source": [
    "data.isnull().sum()"
   ]
  },
  {
   "cell_type": "markdown",
   "id": "75fa1daf",
   "metadata": {},
   "source": [
    "#### We have no more missing values!"
   ]
  },
  {
   "cell_type": "markdown",
   "id": "dfb9c17e",
   "metadata": {},
   "source": [
    "# Checking for duplicate entries in data"
   ]
  },
  {
   "cell_type": "code",
   "execution_count": null,
   "id": "a19db625",
   "metadata": {},
   "outputs": [],
   "source": [
    "data.duplicated().value_counts()"
   ]
  },
  {
   "cell_type": "markdown",
   "id": "684b5123",
   "metadata": {},
   "source": [
    "##### We have found some duplicate rows in the data so removing these rows by drop_duplicate()"
   ]
  },
  {
   "cell_type": "code",
   "execution_count": null,
   "id": "0b1f68b4",
   "metadata": {},
   "outputs": [],
   "source": [
    "# Removing the duplicate rows\n",
    "data.drop_duplicates(inplace=True)"
   ]
  },
  {
   "cell_type": "code",
   "execution_count": null,
   "id": "bac242ba",
   "metadata": {},
   "outputs": [],
   "source": [
    "data.duplicated().value_counts()"
   ]
  },
  {
   "cell_type": "code",
   "execution_count": null,
   "id": "e677cee6",
   "metadata": {},
   "outputs": [],
   "source": [
    "data.duplicated().value_counts()"
   ]
  },
  {
   "cell_type": "markdown",
   "id": "c9180921",
   "metadata": {},
   "source": [
    "##### All duplicate rows removed!"
   ]
  },
  {
   "cell_type": "markdown",
   "id": "7cfc1a39",
   "metadata": {},
   "source": [
    "# Changing Datatype of columns "
   ]
  },
  {
   "cell_type": "code",
   "execution_count": null,
   "id": "29ca16ce",
   "metadata": {},
   "outputs": [],
   "source": [
    "data.info()"
   ]
  },
  {
   "cell_type": "code",
   "execution_count": null,
   "id": "0ea30dfd",
   "metadata": {},
   "outputs": [],
   "source": [
    "# Currently datatype of column totalcharges is of the 'object' datatype \n",
    "# Changing it to float\n",
    "data['TotalCharges'] = data['TotalCharges'].astype('float64')\n",
    "data.info()"
   ]
  },
  {
   "cell_type": "markdown",
   "id": "1e7f8302",
   "metadata": {},
   "source": [
    "#### This means we have some erroneous entries in totalcharges that are of string type instead numeric\n",
    "#### Fixing that"
   ]
  },
  {
   "cell_type": "markdown",
   "id": "1bb35346",
   "metadata": {},
   "source": [
    "# Fixing inconsistencies in data"
   ]
  },
  {
   "cell_type": "code",
   "execution_count": null,
   "id": "030e8f12",
   "metadata": {},
   "outputs": [],
   "source": [
    "data['TotalCharges'].map(type).value_counts()"
   ]
  },
  {
   "cell_type": "code",
   "execution_count": null,
   "id": "a8ed1be8",
   "metadata": {},
   "outputs": [],
   "source": [
    "data['TotalCharges'] = pd.to_numeric(data['TotalCharges'], errors='coerce', downcast='float')\n"
   ]
  },
  {
   "cell_type": "code",
   "execution_count": null,
   "id": "c21d3e9b",
   "metadata": {},
   "outputs": [],
   "source": [
    "data['TotalCharges'].map(type).value_counts()"
   ]
  },
  {
   "cell_type": "code",
   "execution_count": null,
   "id": "8e055aa2",
   "metadata": {},
   "outputs": [],
   "source": [
    "data.head()"
   ]
  },
  {
   "cell_type": "markdown",
   "id": "8ba905ec",
   "metadata": {},
   "source": [
    "# Outlier removal"
   ]
  },
  {
   "cell_type": "code",
   "execution_count": null,
   "id": "acbaed52",
   "metadata": {},
   "outputs": [],
   "source": [
    "data.head()"
   ]
  },
  {
   "cell_type": "code",
   "execution_count": null,
   "id": "60beec10",
   "metadata": {},
   "outputs": [],
   "source": [
    "data.info()"
   ]
  },
  {
   "cell_type": "code",
   "execution_count": null,
   "id": "05e6b471",
   "metadata": {},
   "outputs": [],
   "source": [
    "sns.pairplot(data=data)"
   ]
  },
  {
   "cell_type": "code",
   "execution_count": null,
   "id": "cbc231d6",
   "metadata": {},
   "outputs": [],
   "source": [
    "# We have observed outliers in \n",
    "# tenure vs monthly charges\n",
    "# montlycharges vs total charges"
   ]
  },
  {
   "cell_type": "code",
   "execution_count": null,
   "id": "0131eb48",
   "metadata": {},
   "outputs": [],
   "source": [
    "# Montlycharges seems to be contributing to the outlier entries\n",
    "# all entries with monthly charges above 300 are outliers\n",
    "# so removing all such entries\n",
    "max_value = data['MonthlyCharges'].max()\n",
    "outliers = data['MonthlyCharges'].between(300, max_value)\n",
    "data = data[~outliers]\n",
    "data.dropna(axis = 0, inplace=True)\n",
    "data.isnull().sum()\n",
    "# data = data[~outliers]\n",
    "# data.reset_index(drop=True, inplace=True)"
   ]
  },
  {
   "cell_type": "code",
   "execution_count": null,
   "id": "2dbc5e8c",
   "metadata": {},
   "outputs": [],
   "source": [
    "sns.pairplot(data=data)"
   ]
  },
  {
   "cell_type": "code",
   "execution_count": null,
   "id": "6cbd9617",
   "metadata": {},
   "outputs": [],
   "source": [
    "data.info()"
   ]
  },
  {
   "cell_type": "code",
   "execution_count": null,
   "id": "aee80d68",
   "metadata": {},
   "outputs": [],
   "source": [
    "data.isnull().sum()"
   ]
  },
  {
   "cell_type": "code",
   "execution_count": null,
   "id": "e84443b4",
   "metadata": {},
   "outputs": [],
   "source": [
    "# outliers removed!"
   ]
  },
  {
   "cell_type": "markdown",
   "id": "0fc5ea11",
   "metadata": {},
   "source": [
    "# Addressing Inconsistencies in Categorical Data: Category Merge"
   ]
  },
  {
   "cell_type": "markdown",
   "id": "cf343198",
   "metadata": {},
   "source": [
    "##### There are multiple columns that have redundant category names which can be merged into one. This will reduce the complexity of the data to some extent."
   ]
  },
  {
   "cell_type": "code",
   "execution_count": null,
   "id": "288c9a97",
   "metadata": {
    "scrolled": true
   },
   "outputs": [],
   "source": [
    "data.head()"
   ]
  },
  {
   "cell_type": "markdown",
   "id": "f54f369f",
   "metadata": {},
   "source": [
    "#### Column \"MultipleLines\" Category Merge"
   ]
  },
  {
   "cell_type": "code",
   "execution_count": null,
   "id": "36df3cf6",
   "metadata": {},
   "outputs": [],
   "source": [
    "column = 'MultipleLines'\n",
    "data[column].value_counts()"
   ]
  },
  {
   "cell_type": "code",
   "execution_count": null,
   "id": "bdb48481",
   "metadata": {},
   "outputs": [],
   "source": [
    "data.loc[data[column] == 'No phone service', column] = 'No'\n",
    "data[column].value_counts()"
   ]
  },
  {
   "cell_type": "markdown",
   "id": "ecb1a17a",
   "metadata": {},
   "source": [
    "#### Column \"OnlineSecurity\" Category Merge"
   ]
  },
  {
   "cell_type": "code",
   "execution_count": null,
   "id": "f8c7cdf0",
   "metadata": {},
   "outputs": [],
   "source": [
    "column = 'OnlineSecurity'\n",
    "data[column].value_counts()"
   ]
  },
  {
   "cell_type": "code",
   "execution_count": null,
   "id": "9b32706d",
   "metadata": {},
   "outputs": [],
   "source": [
    "data.loc[data[column] == 'No internet service', column] = 'No'\n",
    "data[column].value_counts()"
   ]
  },
  {
   "cell_type": "markdown",
   "id": "e56d2580",
   "metadata": {},
   "source": [
    "#### Column \"OnlineBackup\"Category Merge"
   ]
  },
  {
   "cell_type": "code",
   "execution_count": null,
   "id": "cc6b2143",
   "metadata": {},
   "outputs": [],
   "source": [
    "column = 'OnlineBackup'\n",
    "data[column].value_counts()"
   ]
  },
  {
   "cell_type": "code",
   "execution_count": null,
   "id": "6b402907",
   "metadata": {},
   "outputs": [],
   "source": [
    "data.loc[data[column] == 'No internet service', column] = 'No'\n",
    "data[column].value_counts()"
   ]
  },
  {
   "cell_type": "markdown",
   "id": "8a9c6e8a",
   "metadata": {},
   "source": [
    "#### Column \"DeviceProtection\" Category Merge"
   ]
  },
  {
   "cell_type": "code",
   "execution_count": null,
   "id": "ce30d980",
   "metadata": {},
   "outputs": [],
   "source": [
    "column = 'DeviceProtection'\n",
    "data[column].value_counts()"
   ]
  },
  {
   "cell_type": "code",
   "execution_count": null,
   "id": "28abaa84",
   "metadata": {},
   "outputs": [],
   "source": [
    "data.loc[data[column] == 'No internet service', column] = 'No'\n",
    "data[column].value_counts()"
   ]
  },
  {
   "cell_type": "markdown",
   "id": "cb7629d0",
   "metadata": {},
   "source": [
    "#### Column \"TechSupport\" Category Merge"
   ]
  },
  {
   "cell_type": "code",
   "execution_count": null,
   "id": "305b3745",
   "metadata": {},
   "outputs": [],
   "source": [
    "column = 'TechSupport'\n",
    "data[column].value_counts()"
   ]
  },
  {
   "cell_type": "code",
   "execution_count": null,
   "id": "1216ba93",
   "metadata": {},
   "outputs": [],
   "source": [
    "data.loc[data[column] == 'No internet service', column] = 'No'\n",
    "data[column].value_counts()"
   ]
  },
  {
   "cell_type": "markdown",
   "id": "8b01a1a8",
   "metadata": {},
   "source": [
    "#### Column \"StreamingTV\" Category Merge"
   ]
  },
  {
   "cell_type": "code",
   "execution_count": null,
   "id": "3329fd80",
   "metadata": {},
   "outputs": [],
   "source": [
    "column = 'StreamingTV'\n",
    "data[column].value_counts()"
   ]
  },
  {
   "cell_type": "code",
   "execution_count": null,
   "id": "2279d630",
   "metadata": {},
   "outputs": [],
   "source": [
    "data.loc[data[column] == 'No internet service', column] = 'No'\n",
    "data[column].value_counts()"
   ]
  },
  {
   "cell_type": "markdown",
   "id": "4a6666f3",
   "metadata": {},
   "source": [
    "#### Column \"StreamingMovies\" Category Merge"
   ]
  },
  {
   "cell_type": "code",
   "execution_count": null,
   "id": "7e0f48f0",
   "metadata": {},
   "outputs": [],
   "source": [
    "column = 'StreamingMovies'\n",
    "data[column].value_counts()"
   ]
  },
  {
   "cell_type": "code",
   "execution_count": null,
   "id": "1e8e34c3",
   "metadata": {},
   "outputs": [],
   "source": [
    "data.loc[data[column] == 'No internet service', column] = 'No'\n",
    "data[column].value_counts()"
   ]
  },
  {
   "cell_type": "code",
   "execution_count": null,
   "id": "2cf058ea",
   "metadata": {},
   "outputs": [],
   "source": [
    "data.head()"
   ]
  },
  {
   "cell_type": "markdown",
   "id": "5eed0d59",
   "metadata": {},
   "source": [
    "# Label Encoding Categorical Columns"
   ]
  },
  {
   "cell_type": "markdown",
   "id": "2d83921c",
   "metadata": {},
   "source": [
    "#### Column: Partner"
   ]
  },
  {
   "cell_type": "code",
   "execution_count": null,
   "id": "384834ea",
   "metadata": {},
   "outputs": [],
   "source": [
    "column = 'Partner'\n",
    "mapping = {'Yes': 1, 'No': 0}\n",
    "data[column].value_counts()"
   ]
  },
  {
   "cell_type": "code",
   "execution_count": null,
   "id": "c1822cbb",
   "metadata": {},
   "outputs": [],
   "source": [
    "data[column] = data[column].map(mapping)\n",
    "data[column].value_counts()"
   ]
  },
  {
   "cell_type": "markdown",
   "id": "60087d7d",
   "metadata": {},
   "source": [
    "#### Column: Dependents"
   ]
  },
  {
   "cell_type": "code",
   "execution_count": null,
   "id": "5ded0baf",
   "metadata": {},
   "outputs": [],
   "source": [
    "column = 'Dependents'\n",
    "mapping = {'Yes': 1, 'No': 0}\n",
    "data[column].value_counts()"
   ]
  },
  {
   "cell_type": "code",
   "execution_count": null,
   "id": "ca2cb8b5",
   "metadata": {},
   "outputs": [],
   "source": [
    "data[column] = data[column].map(mapping)\n",
    "data[column].value_counts()"
   ]
  },
  {
   "cell_type": "markdown",
   "id": "56c74fdf",
   "metadata": {},
   "source": [
    "#### Column: PhoneService"
   ]
  },
  {
   "cell_type": "code",
   "execution_count": null,
   "id": "85a8f94c",
   "metadata": {},
   "outputs": [],
   "source": [
    "column = 'PhoneService'\n",
    "mapping = {'Yes': 1, 'No': 0}\n",
    "data[column].value_counts()"
   ]
  },
  {
   "cell_type": "code",
   "execution_count": null,
   "id": "7285ef52",
   "metadata": {},
   "outputs": [],
   "source": [
    "data[column] = data[column].map(mapping)\n",
    "data[column].value_counts()"
   ]
  },
  {
   "cell_type": "markdown",
   "id": "10bf9fbb",
   "metadata": {},
   "source": [
    "#### Column: MultipleLines"
   ]
  },
  {
   "cell_type": "code",
   "execution_count": null,
   "id": "a0babf38",
   "metadata": {},
   "outputs": [],
   "source": [
    "column = 'MultipleLines'\n",
    "mapping = {'Yes': 1, 'No': 0}\n",
    "data[column].value_counts()"
   ]
  },
  {
   "cell_type": "code",
   "execution_count": null,
   "id": "2a266d7f",
   "metadata": {},
   "outputs": [],
   "source": [
    "data[column] = data[column].map(mapping)\n",
    "data[column].value_counts()"
   ]
  },
  {
   "cell_type": "markdown",
   "id": "914764bd",
   "metadata": {},
   "source": [
    "#### Column: OnlineSecurity"
   ]
  },
  {
   "cell_type": "code",
   "execution_count": null,
   "id": "36087cca",
   "metadata": {},
   "outputs": [],
   "source": [
    "column = 'OnlineSecurity'\n",
    "mapping = {'Yes': 1, 'No': 0}\n",
    "data[column].value_counts()"
   ]
  },
  {
   "cell_type": "code",
   "execution_count": null,
   "id": "7b9b9b89",
   "metadata": {},
   "outputs": [],
   "source": [
    "data[column] = data[column].map(mapping)\n",
    "data[column].value_counts()"
   ]
  },
  {
   "cell_type": "markdown",
   "id": "689bf882",
   "metadata": {},
   "source": [
    "#### Column: OnlineBackup"
   ]
  },
  {
   "cell_type": "code",
   "execution_count": null,
   "id": "40db4ef9",
   "metadata": {},
   "outputs": [],
   "source": [
    "column = 'OnlineBackup'\n",
    "mapping = {'Yes': 1, 'No': 0}\n",
    "data[column].value_counts()"
   ]
  },
  {
   "cell_type": "code",
   "execution_count": null,
   "id": "4e33a3c4",
   "metadata": {},
   "outputs": [],
   "source": [
    "data[column] = data[column].map(mapping)\n",
    "data[column].value_counts()"
   ]
  },
  {
   "cell_type": "markdown",
   "id": "fe62e965",
   "metadata": {},
   "source": [
    "#### Column: DeviceProtection"
   ]
  },
  {
   "cell_type": "code",
   "execution_count": null,
   "id": "66b39c73",
   "metadata": {},
   "outputs": [],
   "source": [
    "column = 'DeviceProtection'\n",
    "mapping = {'Yes': 1, 'No': 0}\n",
    "data[column].value_counts()"
   ]
  },
  {
   "cell_type": "code",
   "execution_count": null,
   "id": "db45956e",
   "metadata": {},
   "outputs": [],
   "source": [
    "data[column] = data[column].map(mapping)\n",
    "data[column].value_counts()"
   ]
  },
  {
   "cell_type": "markdown",
   "id": "7b6147ae",
   "metadata": {},
   "source": [
    "#### Column: TechSupport"
   ]
  },
  {
   "cell_type": "code",
   "execution_count": null,
   "id": "9ada7598",
   "metadata": {},
   "outputs": [],
   "source": [
    "column = 'TechSupport'\n",
    "mapping = {'Yes': 1, 'No': 0}\n",
    "data[column].value_counts()"
   ]
  },
  {
   "cell_type": "code",
   "execution_count": null,
   "id": "ee030ccf",
   "metadata": {},
   "outputs": [],
   "source": [
    "data[column] = data[column].map(mapping)\n",
    "data[column].value_counts()"
   ]
  },
  {
   "cell_type": "markdown",
   "id": "c376a217",
   "metadata": {},
   "source": [
    "#### Column: StreamingTV"
   ]
  },
  {
   "cell_type": "code",
   "execution_count": null,
   "id": "051e4c94",
   "metadata": {},
   "outputs": [],
   "source": [
    "column = 'StreamingTV'\n",
    "mapping = {'Yes': 1, 'No': 0}\n",
    "data[column].value_counts()"
   ]
  },
  {
   "cell_type": "code",
   "execution_count": null,
   "id": "430ee9f0",
   "metadata": {},
   "outputs": [],
   "source": [
    "data[column] = data[column].map(mapping)\n",
    "data[column].value_counts()"
   ]
  },
  {
   "cell_type": "markdown",
   "id": "b99a288b",
   "metadata": {},
   "source": [
    "#### Column: StreamingMovies"
   ]
  },
  {
   "cell_type": "code",
   "execution_count": null,
   "id": "43e7014c",
   "metadata": {},
   "outputs": [],
   "source": [
    "column = 'StreamingMovies'\n",
    "mapping = {'Yes': 1, 'No': 0}\n",
    "data[column].value_counts()"
   ]
  },
  {
   "cell_type": "code",
   "execution_count": null,
   "id": "c0676d76",
   "metadata": {},
   "outputs": [],
   "source": [
    "data[column] = data[column].map(mapping)\n",
    "data[column].value_counts()"
   ]
  },
  {
   "cell_type": "markdown",
   "id": "159de31d",
   "metadata": {},
   "source": [
    "#### Column: PaperlessBilling"
   ]
  },
  {
   "cell_type": "code",
   "execution_count": null,
   "id": "627c9ba3",
   "metadata": {},
   "outputs": [],
   "source": [
    "column = 'PaperlessBilling'\n",
    "mapping = {'Yes': 1, 'No': 0}\n",
    "data[column].value_counts()"
   ]
  },
  {
   "cell_type": "code",
   "execution_count": null,
   "id": "e1181dcd",
   "metadata": {},
   "outputs": [],
   "source": [
    "data[column] = data[column].map(mapping)\n",
    "data[column].value_counts()"
   ]
  },
  {
   "cell_type": "markdown",
   "id": "64def393",
   "metadata": {},
   "source": [
    "#### Column: Churn"
   ]
  },
  {
   "cell_type": "code",
   "execution_count": null,
   "id": "aa22b7aa",
   "metadata": {},
   "outputs": [],
   "source": [
    "column = 'Churn'\n",
    "mapping = {'Yes': 1, 'No': 0}\n",
    "data[column].value_counts()"
   ]
  },
  {
   "cell_type": "code",
   "execution_count": null,
   "id": "c0c694e1",
   "metadata": {},
   "outputs": [],
   "source": [
    "data[column] = data[column].map(mapping)\n",
    "data[column].value_counts()"
   ]
  },
  {
   "cell_type": "code",
   "execution_count": null,
   "id": "f9f56565",
   "metadata": {},
   "outputs": [],
   "source": [
    "data.head()"
   ]
  },
  {
   "cell_type": "markdown",
   "id": "bbd2a956",
   "metadata": {},
   "source": [
    "# Label Encoding for gender:"
   ]
  },
  {
   "cell_type": "markdown",
   "id": "5cac77f2",
   "metadata": {},
   "source": [
    "##### Binary encoding gender to make it similar to column having data of isMale?"
   ]
  },
  {
   "cell_type": "code",
   "execution_count": null,
   "id": "0fc650ad",
   "metadata": {},
   "outputs": [],
   "source": [
    "mapping = {'Male': 1, 'Female': 0}\n",
    "data['gender'].value_counts()"
   ]
  },
  {
   "cell_type": "code",
   "execution_count": null,
   "id": "50abcddb",
   "metadata": {},
   "outputs": [],
   "source": [
    "data['gender'] = data['gender'].map(mapping)\n",
    "data['gender'].value_counts()"
   ]
  },
  {
   "cell_type": "markdown",
   "id": "c51a5dbb",
   "metadata": {},
   "source": [
    "# One-hot encoding for categorical features"
   ]
  },
  {
   "cell_type": "markdown",
   "id": "e04fd3cd",
   "metadata": {},
   "source": [
    "#### One-hot encoding for column InternetService"
   ]
  },
  {
   "cell_type": "code",
   "execution_count": null,
   "id": "5b15f1bb",
   "metadata": {},
   "outputs": [],
   "source": [
    "# Converting categorical to numerical: Fetching categories of Internet Service\n",
    "data['InternetService'].value_counts()"
   ]
  },
  {
   "cell_type": "code",
   "execution_count": null,
   "id": "82a822a8",
   "metadata": {},
   "outputs": [],
   "source": [
    "# Performing one-hot encoding\n",
    "data = pd.get_dummies(data, columns=['InternetService'], prefix='InternetService')\n",
    "\n",
    "# Move the new three columns to its position 9\n",
    "columns = data.columns.tolist()\n",
    "columns = columns[:8] + columns[-3:] + columns[8:-3]\n",
    "data = data[columns]\n",
    "\n",
    "# Renaming newly created columns\n",
    "mapping = {'InternetService_DSL': 'IntrntSrvc_DSL', \n",
    "           'InternetService_Fiber optic': 'IntrntSrvc_FiberOptic', \n",
    "           'InternetService_No': 'IntrntSrvc_No'}\n",
    "data.rename(columns = mapping, inplace=True)\n",
    "\n",
    "# New columns after one hot encoding\n",
    "data.iloc[:5,8:11]"
   ]
  },
  {
   "cell_type": "markdown",
   "id": "bff8f9b2",
   "metadata": {},
   "source": [
    "#### One-hot encoding for column Contract"
   ]
  },
  {
   "cell_type": "code",
   "execution_count": null,
   "id": "80d6711a",
   "metadata": {},
   "outputs": [],
   "source": [
    "# Convert categorical to numerical: Fetching categories of Contract\n",
    "data['Contract'].value_counts()"
   ]
  },
  {
   "cell_type": "code",
   "execution_count": null,
   "id": "2a3cbecf",
   "metadata": {},
   "outputs": [],
   "source": [
    "# Performing one-hot encoding\n",
    "data = pd.get_dummies(data, columns=['Contract'], prefix='Contract')\n",
    "\n",
    "# Move the new three columns to its position 18\n",
    "columns = data.columns.tolist()\n",
    "columns = columns[:17] + columns[-3:] + columns[17:-3]\n",
    "data = data[columns]\n",
    "\n",
    "# Renaming newly created columns\n",
    "mapping = {'Contract_Month-to-month': 'Contract_Monthly', \n",
    "           'Contract_One year': 'Contract_OneYear', \n",
    "           'Contract_Two year': 'Contract_TwoYear'}\n",
    "data.rename(columns = mapping, inplace=True)\n",
    "\n",
    "# New columns after one hot encoding\n",
    "data.iloc[:5,17:20]"
   ]
  },
  {
   "cell_type": "markdown",
   "id": "253f1fba",
   "metadata": {},
   "source": [
    "#### One-hot encoding for column PaymentMethod"
   ]
  },
  {
   "cell_type": "code",
   "execution_count": null,
   "id": "27dc48fd",
   "metadata": {},
   "outputs": [],
   "source": [
    "# Convert categorical to numerical: Fetching categories of Payment Method\n",
    "data['PaymentMethod'].value_counts()"
   ]
  },
  {
   "cell_type": "code",
   "execution_count": null,
   "id": "0390b443",
   "metadata": {},
   "outputs": [],
   "source": [
    "# Performing one-hot encoding\n",
    "data = pd.get_dummies(data, columns=['PaymentMethod'], prefix='PaymentMethod')\n",
    "\n",
    "# Move the new four columns to its position 22\n",
    "columns = data.columns.tolist()\n",
    "columns = columns[:21] + columns[-4:] + columns[21:-4]\n",
    "data = data[columns]\n",
    "\n",
    "# Renaming newly created columns\n",
    "mapping = {'PaymentMethod_Bank transfer (automatic)': 'PayMthd_BankTransfer', \n",
    "           'PaymentMethod_Credit card (automatic)': 'PayMthd_CreditCard', \n",
    "           'PaymentMethod_Electronic check': 'PayMthd_ElectronicCheck', \n",
    "           'PaymentMethod_Mailed check': 'PayMthd_MailedCheck'}\n",
    "data.rename(columns = mapping, inplace=True)\n",
    "\n",
    "# New columns after one hot encoding\n",
    "data.iloc[:5,21:25]"
   ]
  },
  {
   "cell_type": "code",
   "execution_count": null,
   "id": "8ba16062",
   "metadata": {},
   "outputs": [],
   "source": [
    "data.head()"
   ]
  },
  {
   "cell_type": "markdown",
   "id": "8cfc1726",
   "metadata": {},
   "source": [
    "# Typecasting Categorical columns to data type 'category'"
   ]
  },
  {
   "cell_type": "markdown",
   "id": "04435400",
   "metadata": {},
   "source": [
    "##### Since many of our columns are of the categorical type it is poor practice to store them as 'object' dtype thus converting them to the dtype 'category'"
   ]
  },
  {
   "cell_type": "code",
   "execution_count": null,
   "id": "d229dff3",
   "metadata": {},
   "outputs": [],
   "source": [
    "data.info()"
   ]
  },
  {
   "cell_type": "code",
   "execution_count": null,
   "id": "0f238141",
   "metadata": {},
   "outputs": [],
   "source": [
    "data.head()"
   ]
  },
  {
   "cell_type": "code",
   "execution_count": null,
   "id": "34bfecd8",
   "metadata": {},
   "outputs": [],
   "source": [
    "data.describe()"
   ]
  },
  {
   "cell_type": "code",
   "execution_count": null,
   "id": "d4dbe350",
   "metadata": {},
   "outputs": [],
   "source": [
    "data.columns"
   ]
  },
  {
   "cell_type": "code",
   "execution_count": null,
   "id": "f032dbb8",
   "metadata": {},
   "outputs": [],
   "source": [
    "cols = ['OnlineSecurity',\n",
    "       'OnlineBackup', 'DeviceProtection', 'TechSupport', 'StreamingTV',\n",
    "       'StreamingMovies','PaperlessBilling']\n",
    "data[cols]"
   ]
  },
  {
   "cell_type": "code",
   "execution_count": null,
   "id": "de7a21e2",
   "metadata": {},
   "outputs": [],
   "source": [
    "categorical_columns = ['gender', 'SeniorCitizen', 'Partner', 'Dependents', 'PhoneService', \n",
    "                       'MultipleLines', 'OnlineSecurity','OnlineSecurity', 'OnlineBackup', \n",
    "                       'DeviceProtection', 'TechSupport', 'StreamingTV', 'StreamingMovies',\n",
    "                       'PaperlessBilling','Churn']\n",
    "for col in categorical_columns:\n",
    "    data[col] = data[col].astype('category')\n",
    "data.info()"
   ]
  },
  {
   "cell_type": "markdown",
   "id": "47e56f99",
   "metadata": {},
   "source": [
    "# Datatype downcasting eg. int 64 to int8 etc"
   ]
  },
  {
   "cell_type": "markdown",
   "id": "beb1fd31",
   "metadata": {},
   "source": [
    "##### Storing data as int64,float64 etc. not only requires more space but it also increases processing times. In such scenarios, downcasting will stop wastage of space and improve data processing times during training phases of our predictive models."
   ]
  },
  {
   "cell_type": "code",
   "execution_count": null,
   "id": "cdddb194",
   "metadata": {},
   "outputs": [],
   "source": [
    "data['tenure'] = data['tenure'].astype('int8')\n",
    "data.info()"
   ]
  },
  {
   "cell_type": "code",
   "execution_count": null,
   "id": "d5e59070",
   "metadata": {},
   "outputs": [],
   "source": [
    "data['MonthlyCharges'] = data['MonthlyCharges'].astype('float16')\n",
    "data['TotalCharges'] = data['TotalCharges'].astype('float16')\n",
    "data['customerID'] = data['customerID'].astype('string')\n",
    "data.info()"
   ]
  },
  {
   "cell_type": "markdown",
   "id": "aa82838c",
   "metadata": {},
   "source": [
    "# Saving cleaned data into new csv file for EDA and Model Training"
   ]
  },
  {
   "cell_type": "code",
   "execution_count": null,
   "id": "513f1f57",
   "metadata": {},
   "outputs": [],
   "source": [
    "filename = 'clean_data.csv'\n",
    "data.to_csv(filename, index=False)"
   ]
  },
  {
   "cell_type": "code",
   "execution_count": null,
   "id": "8e6ccde9",
   "metadata": {},
   "outputs": [],
   "source": [
    "data.head()"
   ]
  },
  {
   "cell_type": "code",
   "execution_count": null,
   "id": "4b56a4e2",
   "metadata": {},
   "outputs": [],
   "source": [
    "# Importing the data\n",
    "import numpy as np\n",
    "import pandas as pd\n",
    "import matplotlib.pyplot as plt\n",
    "import seaborn as sns\n",
    "%matplotlib inline\n",
    "data = pd.read_csv('data.csv')\n",
    "data.head()\n",
    "data.tail()\n",
    "data.info()\n",
    "data.describe()\n",
    "# Missing data\n",
    "# Checking for missing data\n",
    "data.isnull().sum()\n",
    "# Checking column 'OnlineSecurity' as it shows 17 counts in isnull\n",
    "data['OnlineSecurity']\n",
    "data['OnlineSecurity'].value_counts()\n",
    "##### Column OnlineSecurity is a categorical data and 50% of the people have No as the categorical value so replacing missing values with No. Using the mode of the column for data imputation.\n",
    "data['OnlineSecurity'] = data['OnlineSecurity'].fillna(data['OnlineSecurity'].mode()[0])\n",
    "data.isnull().sum()\n",
    "#### We have no more missing values!\n",
    "# Checking for duplicate entries in data\n",
    "data.duplicated().value_counts()\n",
    "##### We have found some duplicate rows in the data so removing these rows by drop_duplicate()\n",
    "# Removing the duplicate rows\n",
    "data.drop_duplicates(inplace=True)\n",
    "data.duplicated().value_counts()\n",
    "data.duplicated().value_counts()\n",
    "##### All duplicate rows removed!\n",
    "# Changing Datatype of columns \n",
    "data.info()\n",
    "# Currently datatype of column totalcharges is of the 'object' datatype \n",
    "# Changing it to float\n",
    "data['TotalCharges'] = data['TotalCharges'].astype('float64')\n",
    "data.info()\n",
    "#### This means we have some erroneous entries in totalcharges that are of string type instead numeric\n",
    "#### Fixing that\n",
    "# Fixing inconsistencies in data\n",
    "data['TotalCharges'].map(type).value_counts()\n",
    "data['TotalCharges'] = pd.to_numeric(data['TotalCharges'], errors='coerce', downcast='float')\n",
    "\n",
    "data['TotalCharges'].map(type).value_counts()\n",
    "data.head()\n",
    "# Outlier removal\n",
    "data.head()\n",
    "data.info()\n",
    "sns.pairplot(data=data)\n",
    "# We have observed outliers in \n",
    "# tenure vs monthly charges\n",
    "# montlycharges vs total charges\n",
    "# Montlycharges seems to be contributing to the outlier entries\n",
    "# all entries with monthly charges above 300 are outliers\n",
    "# so removing all such entries\n",
    "max_value = data['MonthlyCharges'].max()\n",
    "outliers = data['MonthlyCharges'].between(300, max_value)\n",
    "data = data[~outliers]\n",
    "data.dropna(axis = 0, inplace=True)\n",
    "data.isnull().sum()\n",
    "# data = data[~outliers]\n",
    "# data.reset_index(drop=True, inplace=True)\n",
    "sns.pairplot(data=data)\n",
    "data.info()\n",
    "data.isnull().sum()\n",
    "# outliers removed!\n",
    "# Addressing Inconsistencies in Categorical Data: Category Merge\n",
    "##### There are multiple columns that have redundant category names which can be merged into one. This will reduce the complexity of the data to some extent.\n",
    "data.head()\n",
    "#### Column \"MultipleLines\" Category Merge\n",
    "column = 'MultipleLines'\n",
    "data[column].value_counts()\n",
    "data.loc[data[column] == 'No phone service', column] = 'No'\n",
    "data[column].value_counts()\n",
    "#### Column \"OnlineSecurity\" Category Merge\n",
    "column = 'OnlineSecurity'\n",
    "data[column].value_counts()\n",
    "data.loc[data[column] == 'No internet service', column] = 'No'\n",
    "data[column].value_counts()\n",
    "#### Column \"OnlineBackup\"Category Merge\n",
    "column = 'OnlineBackup'\n",
    "data[column].value_counts()\n",
    "data.loc[data[column] == 'No internet service', column] = 'No'\n",
    "data[column].value_counts()\n",
    "#### Column \"DeviceProtection\" Category Merge\n",
    "column = 'DeviceProtection'\n",
    "data[column].value_counts()\n",
    "data.loc[data[column] == 'No internet service', column] = 'No'\n",
    "data[column].value_counts()\n",
    "#### Column \"TechSupport\" Category Merge\n",
    "column = 'TechSupport'\n",
    "data[column].value_counts()\n",
    "data.loc[data[column] == 'No internet service', column] = 'No'\n",
    "data[column].value_counts()\n",
    "#### Column \"StreamingTV\" Category Merge\n",
    "column = 'StreamingTV'\n",
    "data[column].value_counts()\n",
    "data.loc[data[column] == 'No internet service', column] = 'No'\n",
    "data[column].value_counts()\n",
    "#### Column \"StreamingMovies\" Category Merge\n",
    "column = 'StreamingMovies'\n",
    "data[column].value_counts()\n",
    "data.loc[data[column] == 'No internet service', column] = 'No'\n",
    "data[column].value_counts()\n",
    "data.head()\n",
    "# Label Encoding Categorical Columns\n",
    "#### Column: Partner\n",
    "column = 'Partner'\n",
    "mapping = {'Yes': 1, 'No': 0}\n",
    "data[column].value_counts()\n",
    "data[column] = data[column].map(mapping)\n",
    "data[column].value_counts()\n",
    "#### Column: Dependents\n",
    "column = 'Dependents'\n",
    "mapping = {'Yes': 1, 'No': 0}\n",
    "data[column].value_counts()\n",
    "data[column] = data[column].map(mapping)\n",
    "data[column].value_counts()\n",
    "#### Column: PhoneService\n",
    "column = 'PhoneService'\n",
    "mapping = {'Yes': 1, 'No': 0}\n",
    "data[column].value_counts()\n",
    "data[column] = data[column].map(mapping)\n",
    "data[column].value_counts()\n",
    "#### Column: MultipleLines\n",
    "column = 'MultipleLines'\n",
    "mapping = {'Yes': 1, 'No': 0}\n",
    "data[column].value_counts()\n",
    "data[column] = data[column].map(mapping)\n",
    "data[column].value_counts()\n",
    "#### Column: OnlineSecurity\n",
    "column = 'OnlineSecurity'\n",
    "mapping = {'Yes': 1, 'No': 0}\n",
    "data[column].value_counts()\n",
    "data[column] = data[column].map(mapping)\n",
    "data[column].value_counts()\n",
    "#### Column: OnlineBackup\n",
    "column = 'OnlineBackup'\n",
    "mapping = {'Yes': 1, 'No': 0}\n",
    "data[column].value_counts()\n",
    "data[column] = data[column].map(mapping)\n",
    "data[column].value_counts()\n",
    "#### Column: DeviceProtection\n",
    "column = 'DeviceProtection'\n",
    "mapping = {'Yes': 1, 'No': 0}\n",
    "data[column].value_counts()\n",
    "data[column] = data[column].map(mapping)\n",
    "data[column].value_counts()\n",
    "#### Column: TechSupport\n",
    "column = 'TechSupport'\n",
    "mapping = {'Yes': 1, 'No': 0}\n",
    "data[column].value_counts()\n",
    "data[column] = data[column].map(mapping)\n",
    "data[column].value_counts()\n",
    "#### Column: StreamingTV\n",
    "column = 'StreamingTV'\n",
    "mapping = {'Yes': 1, 'No': 0}\n",
    "data[column].value_counts()\n",
    "data[column] = data[column].map(mapping)\n",
    "data[column].value_counts()\n",
    "#### Column: StreamingMovies\n",
    "column = 'StreamingMovies'\n",
    "mapping = {'Yes': 1, 'No': 0}\n",
    "data[column].value_counts()\n",
    "data[column] = data[column].map(mapping)\n",
    "data[column].value_counts()\n",
    "#### Column: PaperlessBilling\n",
    "column = 'PaperlessBilling'\n",
    "mapping = {'Yes': 1, 'No': 0}\n",
    "data[column].value_counts()\n",
    "data[column] = data[column].map(mapping)\n",
    "data[column].value_counts()\n",
    "#### Column: Churn\n",
    "column = 'Churn'\n",
    "mapping = {'Yes': 1, 'No': 0}\n",
    "data[column].value_counts()\n",
    "data[column] = data[column].map(mapping)\n",
    "data[column].value_counts()\n",
    "data.head()\n",
    "# Label Encoding for gender:\n",
    "##### Binary encoding gender to make it similar to column having data of isMale?\n",
    "mapping = {'Male': 1, 'Female': 0}\n",
    "data['gender'].value_counts()\n",
    "data['gender'] = data['gender'].map(mapping)\n",
    "data['gender'].value_counts()\n",
    "# One-hot encoding for categorical features\n",
    "#### One-hot encoding for column InternetService\n",
    "# Converting categorical to numerical: Fetching categories of Internet Service\n",
    "data['InternetService'].value_counts()\n",
    "# Performing one-hot encoding\n",
    "data = pd.get_dummies(data, columns=['InternetService'], prefix='InternetService')\n",
    "\n",
    "# Move the new three columns to its position 9\n",
    "columns = data.columns.tolist()\n",
    "columns = columns[:8] + columns[-3:] + columns[8:-3]\n",
    "data = data[columns]\n",
    "\n",
    "# Renaming newly created columns\n",
    "mapping = {'InternetService_DSL': 'IntrntSrvc_DSL', \n",
    "           'InternetService_Fiber optic': 'IntrntSrvc_FiberOptic', \n",
    "           'InternetService_No': 'IntrntSrvc_No'}\n",
    "data.rename(columns = mapping, inplace=True)\n",
    "\n",
    "# New columns after one hot encoding\n",
    "data.iloc[:5,8:11]\n",
    "#### One-hot encoding for column Contract\n",
    "# Convert categorical to numerical: Fetching categories of Contract\n",
    "data['Contract'].value_counts()\n",
    "# Performing one-hot encoding\n",
    "data = pd.get_dummies(data, columns=['Contract'], prefix='Contract')\n",
    "\n",
    "# Move the new three columns to its position 18\n",
    "columns = data.columns.tolist()\n",
    "columns = columns[:17] + columns[-3:] + columns[17:-3]\n",
    "data = data[columns]\n",
    "\n",
    "# Renaming newly created columns\n",
    "mapping = {'Contract_Month-to-month': 'Contract_Monthly', \n",
    "           'Contract_One year': 'Contract_OneYear', \n",
    "           'Contract_Two year': 'Contract_TwoYear'}\n",
    "data.rename(columns = mapping, inplace=True)\n",
    "\n",
    "# New columns after one hot encoding\n",
    "data.iloc[:5,17:20]\n",
    "#### One-hot encoding for column PaymentMethod\n",
    "# Convert categorical to numerical: Fetching categories of Payment Method\n",
    "data['PaymentMethod'].value_counts()\n",
    "# Performing one-hot encoding\n",
    "data = pd.get_dummies(data, columns=['PaymentMethod'], prefix='PaymentMethod')\n",
    "\n",
    "# Move the new four columns to its position 22\n",
    "columns = data.columns.tolist()\n",
    "columns = columns[:21] + columns[-4:] + columns[21:-4]\n",
    "data = data[columns]\n",
    "\n",
    "# Renaming newly created columns\n",
    "mapping = {'PaymentMethod_Bank transfer (automatic)': 'PayMthd_BankTransfer', \n",
    "           'PaymentMethod_Credit card (automatic)': 'PayMthd_CreditCard', \n",
    "           'PaymentMethod_Electronic check': 'PayMthd_ElectronicCheck', \n",
    "           'PaymentMethod_Mailed check': 'PayMthd_MailedCheck'}\n",
    "data.rename(columns = mapping, inplace=True)\n",
    "\n",
    "# New columns after one hot encoding\n",
    "data.iloc[:5,21:25]\n",
    "data.head()\n",
    "# Typecasting Categorical columns to data type 'category'\n",
    "##### Since many of our columns are of the categorical type it is poor practice to store them as 'object' dtype thus converting them to the dtype 'category'\n",
    "data.info()\n",
    "data.head()\n",
    "data.describe()\n",
    "data.columns\n",
    "cols = ['OnlineSecurity',\n",
    "       'OnlineBackup', 'DeviceProtection', 'TechSupport', 'StreamingTV',\n",
    "       'StreamingMovies','PaperlessBilling']\n",
    "data[cols]\n",
    "categorical_columns = ['gender', 'SeniorCitizen', 'Partner', 'Dependents', 'PhoneService', \n",
    "                       'MultipleLines', 'OnlineSecurity','OnlineSecurity', 'OnlineBackup', \n",
    "                       'DeviceProtection', 'TechSupport', 'StreamingTV', 'StreamingMovies',\n",
    "                       'PaperlessBilling','Churn']\n",
    "for col in categorical_columns:\n",
    "    data[col] = data[col].astype('category')\n",
    "data.info()\n",
    "# Datatype downcasting eg. int 64 to int8 etc\n",
    "##### Storing data as int64,float64 etc. not only requires more space but it also increases processing times. In such scenarios, downcasting will stop wastage of space and improve data processing times during training phases of our predictive models.\n",
    "data['tenure'] = data['tenure'].astype('int8')\n",
    "data.info()\n",
    "data['MonthlyCharges'] = data['MonthlyCharges'].astype('float16')\n",
    "data['TotalCharges'] = data['TotalCharges'].astype('float16')\n",
    "data['customerID'] = data['customerID'].astype('string')\n",
    "data.info()\n",
    "# Saving cleaned data into new csv file for EDA and Model Training\n",
    "filename = 'clean_data.csv'\n",
    "data.to_csv(filename, index=False)\n",
    "data.head()\n"
   ]
  }
 ],
 "metadata": {
  "kernelspec": {
   "display_name": "Python 3 (ipykernel)",
   "language": "python",
   "name": "python3"
  },
  "language_info": {
   "codemirror_mode": {
    "name": "ipython",
    "version": 3
   },
   "file_extension": ".py",
   "mimetype": "text/x-python",
   "name": "python",
   "nbconvert_exporter": "python",
   "pygments_lexer": "ipython3",
   "version": "3.10.9"
  }
 },
 "nbformat": 4,
 "nbformat_minor": 5
}
